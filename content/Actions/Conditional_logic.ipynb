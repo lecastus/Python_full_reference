{
 "cells": [
  {
   "cell_type": "code",
   "execution_count": 3,
   "metadata": {},
   "outputs": [
    {
     "name": "stdout",
     "output_type": "stream",
     "text": [
      "you can drive a car\n",
      "this line will happen no matter the result of the previous if\n"
     ]
    }
   ],
   "source": [
    "#Logica condicional \n",
    "\n",
    "is_old_enough = True\n",
    "is_licenced = True\n",
    "\n",
    "#Sempre se aplicam identações para o metodo if\n",
    "if is_old_enough and is_licenced:                       #A keyword 'and' nos permite avaliar duas condicionais ao mesmo tempo\n",
    "    print('you can drive a car')\n",
    "elif is_old_enough:                                     #Elif é uma condicional que se se ativa caso que if não seja satisfeito. Ela trás suas proprias condições de analise\n",
    "    print('Maybe go for a drive test?')\n",
    "elif is_licenced:\n",
    "    print(\"I'd love to hear how you did pulled it off\")\n",
    "else:                                                   #Caso nenhuma condicional seja satisfeita, o bloco else será ativado\n",
    "    print(\"I'm sorry, you can't drive\")\n",
    "\n",
    "print('this line will happen no matter the result of the previous if')"
   ]
  },
  {
   "cell_type": "code",
   "execution_count": 4,
   "metadata": {},
   "outputs": [
    {
     "data": {
      "text/plain": [
       "'message allowed'"
      ]
     },
     "execution_count": 4,
     "metadata": {},
     "output_type": "execute_result"
    }
   ],
   "source": [
    "# Ternary operation\n",
    "\n",
    "is_friend = True\n",
    "can_message = \"message allowed\" if is_friend else \"not allowed to message\"\n",
    "can_message"
   ]
  },
  {
   "cell_type": "code",
   "execution_count": 1,
   "metadata": {},
   "outputs": [
    {
     "name": "stdout",
     "output_type": "stream",
     "text": [
      "passa\n"
     ]
    }
   ],
   "source": [
    "#short circuiting\n",
    "\n",
    "# usar or e mais eficiente muitas vezes pq se a primeira conficional for satisfeita, o codigo n olha o resto\n",
    "\n",
    "if True or resto: print('passa')\n",
    "\n",
    "#a variavel 'resto' nem existe"
   ]
  },
  {
   "cell_type": "code",
   "execution_count": 4,
   "metadata": {},
   "outputs": [
    {
     "name": "stdout",
     "output_type": "stream",
     "text": [
      "True\n",
      "False\n",
      "False\n"
     ]
    }
   ],
   "source": [
    "#logical operators\n",
    "'''\n",
    "> or >=\n",
    "< or <=\n",
    "==\n",
    "!=\n",
    "not\n",
    "'''\n",
    "\n",
    "print(1<2<3<4)\n",
    "print( not True)\n",
    "print( not 1==1)"
   ]
  },
  {
   "cell_type": "code",
   "execution_count": 7,
   "metadata": {},
   "outputs": [
    {
     "name": "stdout",
     "output_type": "stream",
     "text": [
      "At least you're getting there\n"
     ]
    }
   ],
   "source": [
    "is_magician = True \n",
    "is_expert = False\n",
    "\n",
    "#check is magician and expert\n",
    "if is_magician and is_expert:\n",
    "    print('You are a master magician')\n",
    "\n",
    "elif is_magician and not is_expert:\n",
    "    print(\"At least you're getting there\")\n",
    "\n",
    "elif not is_magician:\n",
    "    print('You need magic powers')"
   ]
  },
  {
   "cell_type": "code",
   "execution_count": 8,
   "metadata": {},
   "outputs": [
    {
     "name": "stdout",
     "output_type": "stream",
     "text": [
      "True\n",
      "False\n",
      "False\n",
      "True\n",
      "True\n"
     ]
    }
   ],
   "source": [
    "# ==  compara valores entre variaveis, de maneira mais solta e sem levar em consideração a tipagem\n",
    "\n",
    "print(True==1)  #true\n",
    "print(''==1)    #false\n",
    "print([]==1)    #false\n",
    "print(10==10.0) #true\n",
    "print([]==[])   #true"
   ]
  },
  {
   "cell_type": "code",
   "execution_count": 9,
   "metadata": {},
   "outputs": [
    {
     "name": "stdout",
     "output_type": "stream",
     "text": [
      "False\n",
      "False\n",
      "False\n",
      "False\n",
      "False\n"
     ]
    }
   ],
   "source": [
    "#Is vai comparar valores rigidamente. Mesmos valores e formatações. Verifica se duas variaveis São a mesma\n",
    "\n",
    "print(True is 1)  \n",
    "print('' is 1)    #false\n",
    "print([] is 1)    #false\n",
    "print(10 is 10.0) #true\n",
    "print([] is [])   # entendidas como listas diferentes sendo comparadas"
   ]
  }
 ],
 "metadata": {
  "kernelspec": {
   "display_name": "Python 3",
   "language": "python",
   "name": "python3"
  },
  "language_info": {
   "codemirror_mode": {
    "name": "ipython",
    "version": 3
   },
   "file_extension": ".py",
   "mimetype": "text/x-python",
   "name": "python",
   "nbconvert_exporter": "python",
   "pygments_lexer": "ipython3",
   "version": "3.7.9"
  }
 },
 "nbformat": 4,
 "nbformat_minor": 2
}
