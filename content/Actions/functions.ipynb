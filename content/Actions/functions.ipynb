{
 "cells": [
  {
   "cell_type": "code",
   "execution_count": 1,
   "metadata": {},
   "outputs": [],
   "source": [
    "#Definindo uma função\n",
    "\n",
    "def say_hello():\n",
    "    print('hello!')\n"
   ]
  },
  {
   "cell_type": "code",
   "execution_count": 2,
   "metadata": {},
   "outputs": [
    {
     "name": "stdout",
     "output_type": "stream",
     "text": [
      "hello!\n"
     ]
    }
   ],
   "source": [
    "#Chamando uma função já definida\n",
    "\n",
    "say_hello()"
   ]
  },
  {
   "cell_type": "markdown",
   "metadata": {},
   "source": [
    "Funções sao fundamentais para seguirmos o principio DRY - Do not repeat yourself"
   ]
  },
  {
   "cell_type": "code",
   "execution_count": 5,
   "metadata": {},
   "outputs": [
    {
     "name": "stdout",
     "output_type": "stream",
     "text": [
      "   *   \n",
      "  ***  \n",
      " ***** \n",
      "*******\n",
      "   *   \n",
      "   *   \n",
      "   *   \n",
      "  ***  \n",
      " ***** \n",
      "*******\n",
      "   *   \n",
      "   *   \n"
     ]
    }
   ],
   "source": [
    "#A função é definida uma unica vez\n",
    "def christmass_tree():\n",
    "    picture = [\n",
    "    [0,0,0,1,0,0,0],\n",
    "    [0,0,1,1,1,0,0],\n",
    "    [0,1,1,1,1,1,0],\n",
    "    [1,1,1,1,1,1,1],\n",
    "    [0,0,0,1,0,0,0],\n",
    "    [0,0,0,1,0,0,0]\n",
    "    ]\n",
    "    fill = '*'\n",
    "    empty = ' '\n",
    "    #solução do cara\n",
    "    for line in picture:\n",
    "        for item in line:\n",
    "            if item == 0: print(empty,end='')\n",
    "            else: print(fill,end='')\n",
    "        print()\n",
    "\n",
    "#E aqui é chamada 2 vezes sem necessidade de repetir codigo - DRY\n",
    "for _ in range(0,2):\n",
    "    christmass_tree()"
   ]
  },
  {
   "cell_type": "code",
   "execution_count": 6,
   "metadata": {},
   "outputs": [
    {
     "name": "stdout",
     "output_type": "stream",
     "text": [
      "Hello! 😀\n"
     ]
    }
   ],
   "source": [
    "#Parametros\n",
    "def say_something(something,emoji):\n",
    "    print(f'{something} {emoji}')\n",
    "\n",
    "#argumentos\n",
    "say_something('Hello!','😀')\n",
    "\n",
    "#Aqui usamos de maneira posicional. A ordem dos argumentos é a mesma dos parametros"
   ]
  },
  {
   "cell_type": "code",
   "execution_count": 7,
   "metadata": {},
   "outputs": [
    {
     "name": "stdout",
     "output_type": "stream",
     "text": [
      "Hello! 😀\n"
     ]
    }
   ],
   "source": [
    "#Parametros\n",
    "def say_something(something,emoji):\n",
    "    print(f'{something} {emoji}')\n",
    "\n",
    "#argumentos\n",
    "say_something(something='Hello!',emoji='😀')\n",
    "\n",
    "#Aqui usamos keywords para linkar os argumentos aos parametros"
   ]
  },
  {
   "cell_type": "code",
   "execution_count": 8,
   "metadata": {},
   "outputs": [
    {
     "name": "stdout",
     "output_type": "stream",
     "text": [
      "Hello 😀\n"
     ]
    }
   ],
   "source": [
    "#Default parametros\n",
    "def say_something(something='Hello',emoji='😀'):\n",
    "    print(f'{something} {emoji}')\n",
    "\n",
    "#como a função ja tem parametros default, ela vai usá-los sempre que não receber argumentos\n",
    "say_something()\n",
    "\n",
    "#Aqui usamos de maneira posicional. A ordem dos argumentos é a mesma dos parametros"
   ]
  },
  {
   "cell_type": "code",
   "execution_count": 11,
   "metadata": {},
   "outputs": [
    {
     "name": "stdout",
     "output_type": "stream",
     "text": [
      "None\n",
      "3\n"
     ]
    }
   ],
   "source": [
    "#Return in functions\n",
    "\n",
    "def sum(num1,num2):\n",
    "    num1+num2\n",
    "\n",
    "print(sum(1,2))\n",
    "\n",
    "\n",
    "def sum(num1,num2):\n",
    "    return num1+num2\n",
    "\n",
    "print(sum(1,2))\n"
   ]
  },
  {
   "cell_type": "markdown",
   "metadata": {},
   "source": [
    "Geralmente:\n",
    "1. Uma função deveria fazer uma coisa muito bem\n",
    "2. Uma função deveria retornar algo"
   ]
  },
  {
   "cell_type": "code",
   "execution_count": 12,
   "metadata": {},
   "outputs": [
    {
     "name": "stdout",
     "output_type": "stream",
     "text": [
      "3\n"
     ]
    }
   ],
   "source": [
    "total = sum(1,2)\n",
    "print(total)"
   ]
  },
  {
   "cell_type": "code",
   "execution_count": 13,
   "metadata": {},
   "outputs": [
    {
     "name": "stdout",
     "output_type": "stream",
     "text": [
      "4\n"
     ]
    }
   ],
   "source": [
    "print(sum(1,sum(1,2)))"
   ]
  },
  {
   "cell_type": "code",
   "execution_count": 14,
   "metadata": {},
   "outputs": [
    {
     "name": "stdout",
     "output_type": "stream",
     "text": [
      "2\n"
     ]
    }
   ],
   "source": [
    "#nesting functions - uma função trabalhando dentro de outra\n",
    "def sum (num1,num2):\n",
    "    def other_fun(num1,num2):\n",
    "        return num1+num2\n",
    "    return other_fun(num1,num2)\n",
    "\n",
    "print(sum(1,1))"
   ]
  },
  {
   "cell_type": "code",
   "execution_count": 15,
   "metadata": {},
   "outputs": [
    {
     "name": "stdout",
     "output_type": "stream",
     "text": [
      "None\n"
     ]
    }
   ],
   "source": [
    "#return enceerra a função \n",
    "def teste():\n",
    "    return\n",
    "    print('teste')\n",
    "\n",
    "print(teste())"
   ]
  },
  {
   "cell_type": "markdown",
   "metadata": {},
   "source": [
    "#Methods vs Functions\n",
    "1. Objetos podem ter metodos. Metodos sempre são possuidos por objetos. Existem varios \n",
    "deles prontos para serem usados na documentação do python. Estruturas de dados tem seus \n",
    "proprios metodos. Vide doc do python https://docs.python.org/pt-br/3/\n",
    "\n",
    "2. Funções são blocos de codigo independentes de objetos \n"
   ]
  },
  {
   "cell_type": "code",
   "execution_count": 19,
   "metadata": {},
   "outputs": [
    {
     "name": "stdout",
     "output_type": "stream",
     "text": [
      "oi\n",
      "Help on function test in module __main__:\n",
      "\n",
      "test(a)\n",
      "    Info: this function tests and print a variable\n",
      "\n",
      "\n",
      "    Info: this function tests and print a variable\n",
      "    \n"
     ]
    }
   ],
   "source": [
    "#Definindo e acessando documentação de funções\n",
    "def test(a):\n",
    "    '''\n",
    "    Info: this function tests and print a variable\n",
    "    '''\n",
    "    print(a)\n",
    "\n",
    "test('oi')\n",
    "help(test)\n",
    "print(test.__doc__)"
   ]
  },
  {
   "cell_type": "code",
   "execution_count": null,
   "metadata": {},
   "outputs": [],
   "source": [
    "#Clean code\n",
    "\n",
    "#From \n",
    "def is_odd_or_even(num):\n",
    "    if num%2 == 0: \n",
    "        return True\n",
    "    elif num%2 != 0: \n",
    "        return False\n",
    "\n",
    "#To\n",
    "def is_odd_or_even(num):\n",
    "    return num%2 == 0\n"
   ]
  },
  {
   "cell_type": "code",
   "execution_count": 27,
   "metadata": {},
   "outputs": [],
   "source": [
    "#limpando a variavel com nome de sum. Não quero mais usar a função customizada do exercicio anterior, mas sim a função\n",
    "#padrão que o python estabelece\n",
    "del sum"
   ]
  },
  {
   "cell_type": "code",
   "execution_count": 28,
   "metadata": {},
   "outputs": [
    {
     "name": "stdout",
     "output_type": "stream",
     "text": [
      "(1, 2, 3, 4, 5) <class 'tuple'>\n",
      "1 2 3 4 5 <class 'tuple'>\n",
      "{'num1': 5, 'num2': 10} <class 'dict'>\n",
      "num1 num2 <class 'dict'>\n"
     ]
    },
    {
     "data": {
      "text/plain": [
       "30"
      ]
     },
     "execution_count": 28,
     "metadata": {},
     "output_type": "execute_result"
    }
   ],
   "source": [
    "# *args   **kwargs\n",
    "\n",
    "def super_func(*args,**kwargs):\n",
    "    print(args,type(args))\n",
    "    print(*args,type(args))\n",
    "\n",
    "    print(kwargs,type(kwargs))\n",
    "    print(*kwargs,type(kwargs))\n",
    "\n",
    "    total= 0\n",
    "    for items in kwargs.values():\n",
    "        total+=items\n",
    "    return sum(args)+total\n",
    "\n",
    "super_func(1,2,3,4,5,num1=5,num2=10)"
   ]
  },
  {
   "cell_type": "markdown",
   "metadata": {},
   "source": [
    "Ordem ideal das coisas\n",
    "params, *args, default parameters, **kwargs"
   ]
  },
  {
   "cell_type": "code",
   "execution_count": 29,
   "metadata": {},
   "outputs": [
    {
     "name": "stdout",
     "output_type": "stream",
     "text": [
      "(1, 2, 3, 4, 5) <class 'tuple'>\n",
      "1 2 3 4 5 <class 'tuple'>\n",
      "{'num1': 5, 'num2': 10} <class 'dict'>\n",
      "num1 num2 <class 'dict'>\n"
     ]
    },
    {
     "data": {
      "text/plain": [
       "30"
      ]
     },
     "execution_count": 29,
     "metadata": {},
     "output_type": "execute_result"
    }
   ],
   "source": [
    "def super_func(name,*args,i='hi',**kwargs):\n",
    "    print(args,type(args))\n",
    "    print(*args,type(args))\n",
    "\n",
    "    print(kwargs,type(kwargs))\n",
    "    print(*kwargs,type(kwargs))\n",
    "\n",
    "    total= 0\n",
    "    for items in kwargs.values():\n",
    "        total+=items\n",
    "    return sum(args)+total\n",
    "\n",
    "super_func('leandro',1,2,3,4,5,num1=5,num2=10)"
   ]
  },
  {
   "cell_type": "code",
   "execution_count": 31,
   "metadata": {},
   "outputs": [
    {
     "name": "stdout",
     "output_type": "stream",
     "text": [
      "10\n"
     ]
    }
   ],
   "source": [
    "#Exercicio\n",
    "\n",
    "def highest_even(list):\n",
    "    def is_even(num):\n",
    "        return num%2 == 0\n",
    "    highest_even_number = 0\n",
    "    for number in list:\n",
    "        if not is_even(number): continue\n",
    "        if number > highest_even_number: highest_even_number = number\n",
    "    return highest_even_number\n",
    "\n",
    "\n",
    "\n",
    "print(highest_even([10,2,3,4,8,11]))"
   ]
  },
  {
   "cell_type": "code",
   "execution_count": null,
   "metadata": {},
   "outputs": [],
   "source": [
    "#challenge"
   ]
  },
  {
   "cell_type": "code",
   "execution_count": 2,
   "metadata": {},
   "outputs": [
    {
     "name": "stdout",
     "output_type": "stream",
     "text": [
      "too longo 26 elements\n",
      "too longo 26 elements\n"
     ]
    }
   ],
   "source": [
    "#Walrus operator :=\n",
    "#Dá valor para uma variavel durante uma expressao\n",
    "\n",
    "a = 'helooooooooooooooooooooooo'\n",
    "\n",
    "if len(a) > 10:\n",
    "    print(f\"too longo {len(a)} elements\")\n",
    "\n",
    "a = 'helooooooooooooooooooooooo'\n",
    "\n",
    "if (lenght := len(a)) > 10:\n",
    "    print(f\"too longo {lenght} elements\")"
   ]
  },
  {
   "cell_type": "code",
   "execution_count": 3,
   "metadata": {},
   "outputs": [
    {
     "ename": "NameError",
     "evalue": "name 'total' is not defined",
     "output_type": "error",
     "traceback": [
      "\u001b[1;31m---------------------------------------------------------------------------\u001b[0m",
      "\u001b[1;31mNameError\u001b[0m                                 Traceback (most recent call last)",
      "Cell \u001b[1;32mIn[3], line 7\u001b[0m\n\u001b[0;32m      4\u001b[0m \u001b[38;5;28;01mdef\u001b[39;00m \u001b[38;5;21msome_func\u001b[39m():\n\u001b[0;32m      5\u001b[0m     total \u001b[38;5;241m=\u001b[39m \u001b[38;5;241m100\u001b[39m\n\u001b[1;32m----> 7\u001b[0m \u001b[38;5;28mprint\u001b[39m(\u001b[43mtotal\u001b[49m)\n",
      "\u001b[1;31mNameError\u001b[0m: name 'total' is not defined"
     ]
    }
   ],
   "source": [
    "# Scope - what variables do I have access to?\n",
    "\n",
    "def some_func():\n",
    "    total = 100\n",
    "\n",
    "print(total)"
   ]
  },
  {
   "cell_type": "code",
   "execution_count": 4,
   "metadata": {},
   "outputs": [
    {
     "name": "stdout",
     "output_type": "stream",
     "text": [
      "10\n"
     ]
    }
   ],
   "source": [
    "if True:\n",
    "    total = 10\n",
    "\n",
    "def some_func():\n",
    "    total = 100\n",
    "\n",
    "print(total)"
   ]
  },
  {
   "cell_type": "code",
   "execution_count": 11,
   "metadata": {},
   "outputs": [
    {
     "name": "stdout",
     "output_type": "stream",
     "text": [
      "1\n",
      "5\n",
      "---------------\n",
      "1\n",
      "1\n",
      "---------------\n",
      "1\n",
      "2\n",
      "---------------\n",
      "1\n",
      "1\n"
     ]
    }
   ],
   "source": [
    "a = 1\n",
    "\n",
    "def confusion():\n",
    "    a = 5\n",
    "    return a\n",
    "\n",
    "print(a)\n",
    "print(confusion())\n",
    "\n",
    "print('---------------')\n",
    "\n",
    "a = 1\n",
    "\n",
    "def confusion():\n",
    "    return a\n",
    "\n",
    "print(a)\n",
    "print(confusion())\n",
    "\n",
    "print('---------------')\n",
    "\n",
    "a = 1\n",
    "def parent():\n",
    "    a = 2\n",
    "    def confusion():\n",
    "        return a\n",
    "    return a\n",
    "\n",
    "print(a)\n",
    "print(parent())\n",
    "\n",
    "print('---------------')\n",
    "\n",
    "a = 1\n",
    "def parent():\n",
    "    def confusion():\n",
    "        return a\n",
    "    return a\n",
    "\n",
    "print(a)\n",
    "print(parent())\n",
    "    "
   ]
  },
  {
   "cell_type": "markdown",
   "metadata": {},
   "source": [
    "Scope:\n",
    "# 1 - start with local\n",
    "# 2 - parent local\n",
    "# 3 - Global\n",
    "# 4 - built in python\n",
    "\n",
    "Parametros sao considerados variaveis locais da função"
   ]
  },
  {
   "cell_type": "code",
   "execution_count": 16,
   "metadata": {},
   "outputs": [
    {
     "name": "stdout",
     "output_type": "stream",
     "text": [
      "1\n",
      "------------\n",
      "1\n"
     ]
    }
   ],
   "source": [
    "# Scope - what variables do I have access to?\n",
    "#Global keyword\n",
    "\n",
    "#usa uma variavel definida globalmente\n",
    "\n",
    "total = 0\n",
    "\n",
    "def count():\n",
    "    global total \n",
    "    total +=1\n",
    "    return total\n",
    "\n",
    "print(count())\n",
    "\n",
    "print('------------')\n",
    "\n",
    "#Injeção de dependencia\n",
    "\n",
    "total = 0\n",
    "\n",
    "def count(total): \n",
    "    total +=1\n",
    "    return total\n",
    "\n",
    "print(count(total))"
   ]
  },
  {
   "cell_type": "code",
   "execution_count": 17,
   "metadata": {},
   "outputs": [
    {
     "name": "stdout",
     "output_type": "stream",
     "text": [
      "inner: nonlocal\n",
      "outer: nonlocal\n"
     ]
    }
   ],
   "source": [
    "# Scope - what variables do I have access to?\n",
    "#Nonlocal keyword\n",
    "\n",
    "#puxa uma variavel que não seja local, mas sim do parent\n",
    "    #evitar usar artificios como nonlocal e global\n",
    "\n",
    "def outer():\n",
    "    x = \"local\"\n",
    "    def inner():\n",
    "        nonlocal x\n",
    "        x = \"nonlocal\"\n",
    "        print(\"inner:\", x)\n",
    "    inner()\n",
    "    print(\"outer:\", x)\n",
    "outer()\n",
    "#codigo ruim por propositos didaticos\n"
   ]
  },
  {
   "cell_type": "markdown",
   "metadata": {},
   "source": [
    "Por que não ter tudo como variavel global?\n",
    "- Excessiva definição de variaveis em todo o funcionamento do codigo. Maximiza o uso de memoria, derrubando eficiencia\n",
    "    - Python usa o garbage collector para limpar variaveis que não são usadas mais para otimizar uso de memoria\n",
    "- Confusão lógica: mais facil de se bater com manejo de variaveis"
   ]
  },
  {
   "cell_type": "code",
   "execution_count": 1,
   "metadata": {},
   "outputs": [
    {
     "name": "stdout",
     "output_type": "stream",
     "text": [
      "i\n"
     ]
    }
   ],
   "source": [
    "#strip -> joga fora espaços no começo e fim\n",
    "print       (' i '.strip())"
   ]
  }
 ],
 "metadata": {
  "kernelspec": {
   "display_name": "Python 3",
   "language": "python",
   "name": "python3"
  },
  "language_info": {
   "codemirror_mode": {
    "name": "ipython",
    "version": 3
   },
   "file_extension": ".py",
   "mimetype": "text/x-python",
   "name": "python",
   "nbconvert_exporter": "python",
   "pygments_lexer": "ipython3",
   "version": "3.8.5"
  }
 },
 "nbformat": 4,
 "nbformat_minor": 2
}
