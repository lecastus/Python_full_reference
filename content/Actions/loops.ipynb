{
 "cells": [
  {
   "cell_type": "code",
   "execution_count": 1,
   "metadata": {},
   "outputs": [
    {
     "name": "stdout",
     "output_type": "stream",
     "text": [
      "Z\n",
      "e\n",
      "r\n",
      "o\n",
      " \n",
      "t\n",
      "o\n",
      " \n",
      "m\n",
      "a\n",
      "s\n",
      "t\n",
      "e\n",
      "r\n",
      "y\n"
     ]
    }
   ],
   "source": [
    "#Loops\n",
    "\n",
    "for item in 'Zero to mastery':\n",
    "    print(item)\n",
    "\n",
    "#item é uma variavel definida na definição do for loop. \n",
    "#Um for aplicado a um string, quebra o string em caracteres"
   ]
  },
  {
   "cell_type": "code",
   "execution_count": 2,
   "metadata": {},
   "outputs": [
    {
     "name": "stdout",
     "output_type": "stream",
     "text": [
      "1\n",
      "2\n",
      "3\n",
      "4\n"
     ]
    }
   ],
   "source": [
    "my_set = {1,2,3,4}\n",
    "for item in my_set:\n",
    "    print(item)\n",
    "\n",
    "\n",
    "'''for loops permite iterar em qualquer coleção de valores\n",
    "    Listas\n",
    "    tuplas\n",
    "    sets\n",
    "    dicionarios\n",
    "'''"
   ]
  },
  {
   "cell_type": "code",
   "execution_count": 6,
   "metadata": {},
   "outputs": [
    {
     "name": "stdout",
     "output_type": "stream",
     "text": [
      "1 a\n",
      "1 b\n",
      "1 c\n",
      "2 a\n",
      "2 b\n",
      "2 c\n",
      "3 a\n",
      "3 b\n",
      "3 c\n",
      "4 a\n",
      "4 b\n",
      "4 c\n",
      "5 a\n",
      "5 b\n",
      "5 c\n",
      "--------------------------------\n",
      "1\n",
      "2\n",
      "3\n",
      "4\n"
     ]
    }
   ],
   "source": [
    "for item in (1,2,3,4,5):\n",
    "    for subitem in ['a','b','c']:\n",
    "        print(item,subitem)\n",
    "\n",
    "print('--------------------------------')\n",
    "\n",
    "linhas = [[1,2],[3,4]]\n",
    "for linha in linhas:\n",
    "    for coluna in linha:\n",
    "        print(coluna)"
   ]
  },
  {
   "cell_type": "code",
   "execution_count": 12,
   "metadata": {},
   "outputs": [
    {
     "name": "stdout",
     "output_type": "stream",
     "text": [
      "name\n",
      "age\n",
      "can_swim\n",
      "----------\n",
      "('name', 'golem')\n",
      "('age', 5006)\n",
      "('can_swim', False)\n",
      "----------\n",
      "golem\n",
      "5006\n",
      "False\n",
      "----------\n",
      "name\n",
      "age\n",
      "can_swim\n"
     ]
    }
   ],
   "source": [
    "dict = {\n",
    "    'name':'golem',\n",
    "    'age': 5006,\n",
    "    'can_swim':False\n",
    "}\n",
    "\n",
    "for item in dict:\n",
    "    print(item)\n",
    "print('----------')\n",
    "for item in dict.items():\n",
    "    print(item)\n",
    "print('----------')\n",
    "for item in dict.values():\n",
    "    print(item)\n",
    "print('----------')\n",
    "for item in dict.keys():\n",
    "    print(item)"
   ]
  },
  {
   "cell_type": "code",
   "execution_count": 13,
   "metadata": {},
   "outputs": [
    {
     "name": "stdout",
     "output_type": "stream",
     "text": [
      "55\n"
     ]
    }
   ],
   "source": [
    "my_list = [1,2,3,4,5,6,7,8,9,10]\n",
    "\n",
    "soma = 0\n",
    "for item in my_list:\n",
    "    soma += item\n",
    "print(soma)"
   ]
  },
  {
   "cell_type": "code",
   "execution_count": 14,
   "metadata": {},
   "outputs": [
    {
     "name": "stdout",
     "output_type": "stream",
     "text": [
      "1\n",
      "2\n",
      "3\n",
      "4\n",
      "5\n",
      "6\n",
      "7\n",
      "8\n",
      "9\n"
     ]
    }
   ],
   "source": [
    "for number in range(1,10):\n",
    "    print(number)"
   ]
  },
  {
   "cell_type": "code",
   "execution_count": 19,
   "metadata": {},
   "outputs": [
    {
     "name": "stdout",
     "output_type": "stream",
     "text": [
      "send_email\n",
      "send_email\n",
      "--------------\n",
      "1\n",
      "3\n",
      "5\n",
      "7\n",
      "9\n",
      "--------------\n",
      "10\n",
      "9\n",
      "8\n",
      "7\n",
      "6\n",
      "5\n",
      "4\n",
      "3\n",
      "2\n",
      "1\n"
     ]
    }
   ],
   "source": [
    "#Usamos _ quando a variavel é irrelevante em si memso e esta ali apenas para definir o loop\n",
    "\n",
    "for _ in range(1,3):\n",
    "    print('send_email')\n",
    "\n",
    "print('--------------')\n",
    "\n",
    "for _ in range(1,10,2):\n",
    "    print(_)\n",
    "\n",
    "print('--------------')\n",
    "\n",
    "for _ in range(10,0,-1):\n",
    "    print(_)"
   ]
  },
  {
   "cell_type": "code",
   "execution_count": 22,
   "metadata": {},
   "outputs": [
    {
     "name": "stdout",
     "output_type": "stream",
     "text": [
      "0 H\n",
      "1 e\n",
      "2 l\n",
      "3 l\n",
      "4 o\n"
     ]
    }
   ],
   "source": [
    "#Enumerate\n",
    "\n",
    "for index,character in enumerate('Hello'):\n",
    "    print(index,character)"
   ]
  },
  {
   "cell_type": "code",
   "execution_count": 23,
   "metadata": {},
   "outputs": [
    {
     "name": "stdout",
     "output_type": "stream",
     "text": [
      "50 50\n"
     ]
    }
   ],
   "source": [
    "for index,character in enumerate(list(range(100))):\n",
    "    if character == 50:\n",
    "        print(index,character)"
   ]
  },
  {
   "cell_type": "code",
   "execution_count": 24,
   "metadata": {},
   "outputs": [
    {
     "name": "stdout",
     "output_type": "stream",
     "text": [
      "0\n",
      "1\n",
      "2\n",
      "3\n",
      "4\n",
      "5\n",
      "6\n",
      "7\n",
      "8\n",
      "9\n"
     ]
    }
   ],
   "source": [
    "a = 0\n",
    "while a < 10:\n",
    "    print(a)\n",
    "    a += 1"
   ]
  },
  {
   "cell_type": "code",
   "execution_count": 25,
   "metadata": {},
   "outputs": [
    {
     "name": "stdout",
     "output_type": "stream",
     "text": [
      "0\n"
     ]
    }
   ],
   "source": [
    "a = 0\n",
    "while a < 10:\n",
    "    print(a)\n",
    "    break\n",
    "    a += 1"
   ]
  },
  {
   "cell_type": "code",
   "execution_count": 28,
   "metadata": {},
   "outputs": [
    {
     "name": "stdout",
     "output_type": "stream",
     "text": [
      "0\n",
      "1\n",
      "2\n",
      "done\n",
      "----------\n",
      "0\n"
     ]
    }
   ],
   "source": [
    "#else so ativa se não tiver um break no caminho. So se o while tiver sido interrompido pela satisfação da sua condicional\n",
    "\n",
    "a = 0\n",
    "while a < 3:\n",
    "    print(a)\n",
    "    a += 1\n",
    "else:\n",
    "    print('done')\n",
    "\n",
    "print('----------')\n",
    "\n",
    "a = 0\n",
    "while a < 3:\n",
    "    print(a)\n",
    "    a += 1\n",
    "    break\n",
    "else:\n",
    "    print('done')"
   ]
  },
  {
   "cell_type": "code",
   "execution_count": 7,
   "metadata": {},
   "outputs": [
    {
     "name": "stdout",
     "output_type": "stream",
     "text": [
      "1\n",
      "2\n",
      "3\n",
      "-------------\n",
      "1\n",
      "2\n",
      "3\n"
     ]
    }
   ],
   "source": [
    "my_list = [1,2,3]\n",
    "\n",
    "for item in my_list:\n",
    "    print(item)\n",
    "\n",
    "print('-------------')\n",
    "\n",
    "i = 0  \n",
    "while i < len(my_list):\n",
    "    print(my_list[i])\n",
    "    i +=1"
   ]
  },
  {
   "cell_type": "markdown",
   "metadata": {},
   "source": [
    "Casos em que cada loop e melhor\n",
    "\n",
    "For: simples ou loop em lista fechada ou objetos iteravel\n",
    "while: loop no qual nao se esta seguro sobre quantas iterações ocorrerão. Também é util para tarefas que voce não quer que acabe, antes de uma condição especifica for satisfeito (exemplo abaixo).\n"
   ]
  },
  {
   "cell_type": "code",
   "execution_count": 10,
   "metadata": {},
   "outputs": [],
   "source": [
    "while True:\n",
    "    response = input('say something: ')\n",
    "    if (response == 'bye'):\n",
    "        break"
   ]
  },
  {
   "cell_type": "markdown",
   "metadata": {},
   "source": [
    "break -> quebra o loop e segue para o proximo bloco de codigo\n",
    "continue -> para a iteração atual e passa a proxima do mesmo loop\n",
    "pass -> não faz nada. Passa reto. Util para colocar em uma condicional, na qual nada acontece"
   ]
  },
  {
   "cell_type": "code",
   "execution_count": 17,
   "metadata": {},
   "outputs": [
    {
     "name": "stdout",
     "output_type": "stream",
     "text": [
      "3\n",
      "-------------\n",
      "3\n"
     ]
    }
   ],
   "source": [
    "my_list = [1,2,3,4]\n",
    "\n",
    "for item in my_list:\n",
    "    if item < 2 : \n",
    "        continue\n",
    "    elif item == 2: \n",
    "        pass\n",
    "    else:\n",
    "        print(item)\n",
    "        break\n",
    "\n",
    "print('-------------')\n",
    "\n",
    "i = 0  \n",
    "while i < len(my_list):\n",
    "    i +=1\n",
    "    if item < 2 : \n",
    "        continue\n",
    "    elif item == 2: \n",
    "        pass\n",
    "    else:\n",
    "        print(item)\n",
    "        break"
   ]
  },
  {
   "cell_type": "markdown",
   "metadata": {},
   "source": [
    "#GUI - Graphic user interface"
   ]
  },
  {
   "cell_type": "code",
   "execution_count": 35,
   "metadata": {},
   "outputs": [
    {
     "name": "stdout",
     "output_type": "stream",
     "text": [
      "   *   \n",
      "  ***  \n",
      " ***** \n",
      "*******\n",
      "   *   \n",
      "   *   \n",
      "----------------\n",
      "   *   \n",
      "  ***  \n",
      " ***** \n",
      "*******\n",
      "   *   \n",
      "   *   \n"
     ]
    }
   ],
   "source": [
    "#Exercise!\n",
    "#Display the image below to the right hand side where the 0 is going to be ' ', and the 1 is going to be '*'. This will reveal an image!\n",
    "picture = [\n",
    "  [0,0,0,1,0,0,0],\n",
    "  [0,0,1,1,1,0,0],\n",
    "  [0,1,1,1,1,1,0],\n",
    "  [1,1,1,1,1,1,1],\n",
    "  [0,0,0,1,0,0,0],\n",
    "  [0,0,0,1,0,0,0]\n",
    "]\n",
    "\n",
    "\n",
    "#minha solução\n",
    "translator = {\n",
    "    0:' ',\n",
    "    1:'*'\n",
    "}\n",
    "for line in picture:\n",
    "    translate_line = ''\n",
    "    for item in line:\n",
    "        translate_line = translate_line+translator[item]\n",
    "\n",
    "    print(translate_line)\n",
    "\n",
    "print('----------------')\n",
    "fill = '*'\n",
    "empty = ' '\n",
    "#solução do cara\n",
    "for line in picture:\n",
    "    for item in line:\n",
    "        if item == 0: print(empty,end='')\n",
    "        else: print(fill,end='')\n",
    "    print()\n",
    "        "
   ]
  },
  {
   "cell_type": "code",
   "execution_count": 38,
   "metadata": {},
   "outputs": [
    {
     "name": "stdout",
     "output_type": "stream",
     "text": [
      "['b', 'n']\n"
     ]
    }
   ],
   "source": [
    "some_list = ['a', 'b', 'c', 'b', 'd', 'm', 'n', 'n']\n",
    "\n",
    "duplicates = []\n",
    "for item in some_list:\n",
    "    count_of_this_item = some_list.count(item)\n",
    "    if count_of_this_item > 1 and item not in duplicates:\n",
    "        duplicates.append(item)\n",
    "print(duplicates)"
   ]
  }
 ],
 "metadata": {
  "kernelspec": {
   "display_name": "Python 3",
   "language": "python",
   "name": "python3"
  },
  "language_info": {
   "codemirror_mode": {
    "name": "ipython",
    "version": 3
   },
   "file_extension": ".py",
   "mimetype": "text/x-python",
   "name": "python",
   "nbconvert_exporter": "python",
   "pygments_lexer": "ipython3",
   "version": "3.7.9"
  }
 },
 "nbformat": 4,
 "nbformat_minor": 2
}
