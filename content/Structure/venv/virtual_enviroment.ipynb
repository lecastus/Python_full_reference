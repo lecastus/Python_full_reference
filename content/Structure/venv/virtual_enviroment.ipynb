{
 "cells": [
  {
   "cell_type": "markdown",
   "metadata": {},
   "source": [
    "Ambiente virtual\n",
    "\n",
    "Permite ter versoes de bibliotecas isoladas em um projeto, não afetando os demais\n",
    "\n",
    "Comandos:\n",
    "pip3 list -> lista todas as bibliotecas disponiveis no ambiente em questao\n",
    "$ pip install --user pipenv -> inicia um ambiente virtual isolado"
   ]
  }
 ],
 "metadata": {
  "language_info": {
   "name": "python"
  }
 },
 "nbformat": 4,
 "nbformat_minor": 2
}
