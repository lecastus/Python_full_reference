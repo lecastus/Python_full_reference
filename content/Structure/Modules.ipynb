{
 "cells": [
  {
   "cell_type": "markdown",
   "metadata": {},
   "source": [
    "Modulos\n",
    "Uma forma de organizar codigo \n",
    "Em ordem de complexidade:\n",
    "codigo puro -> funções -> classes -> modulos\n",
    "\n",
    "Modulos quebram o codigo em diversos arquivos .py\n",
    "    Fazemos isso para categorizar melhor nossas classes e funções\n",
    "\n",
    "Vamos usar a pasta Application como exemplo de como quebrar nosso arquivo em multiplos arquivos trabalhando junto\n",
    "\n",
    "Os arquivos de cache sao criados sempre que uma importação acontece. Isso para que não haja necessidade de compilar todas as vezes que o codigo rodar, ganhando performance\n"
   ]
  }
 ],
 "metadata": {
  "language_info": {
   "name": "python"
  }
 },
 "nbformat": 4,
 "nbformat_minor": 2
}
