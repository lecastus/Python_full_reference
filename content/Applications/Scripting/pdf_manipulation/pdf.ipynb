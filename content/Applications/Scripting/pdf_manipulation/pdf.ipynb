{
 "cells": [
  {
   "cell_type": "code",
   "execution_count": 2,
   "metadata": {},
   "outputs": [],
   "source": [
    "import PyPDF2"
   ]
  },
  {
   "cell_type": "code",
   "execution_count": 27,
   "metadata": {},
   "outputs": [
    {
     "name": "stdout",
     "output_type": "stream",
     "text": [
      "<_io.BufferedReader name='Pdf teste.pdf'>\n",
      "<PyPDF2._reader.PdfReader object at 0x000001FF10CE1F10>\n",
      "<PyPDF2._page._VirtualList object at 0x000001FF11990650>\n",
      "1\n",
      "{'/Type': '/Page', '/Parent': IndirectObject(2, 0, 2195010232080), '/Resources': {'/Font': {'/F1': IndirectObject(5, 0, 2195010232080), '/F2': IndirectObject(12, 0, 2195010232080)}, '/ExtGState': {'/GS10': IndirectObject(10, 0, 2195010232080), '/GS11': IndirectObject(11, 0, 2195010232080)}, '/ProcSet': ['/PDF', '/Text', '/ImageB', '/ImageC', '/ImageI']}, '/MediaBox': [0, 0, 595.32, 841.92], '/Contents': IndirectObject(4, 0, 2195010232080), '/Group': {'/Type': '/Group', '/S': '/Transparency', '/CS': '/DeviceRGB'}, '/Tabs': '/S', '/StructParents': 0}\n"
     ]
    }
   ],
   "source": [
    "#Sempre ler como binario 'rb'\n",
    "with open (\"Pdf teste.pdf\",'rb') as file:\n",
    "    print(file)\n",
    "    reader = PyPDF2.PdfReader(file)\n",
    "    print(reader)\n",
    "    print(reader.pages)\n",
    "    print(len(reader.pages))\n",
    "    page = reader.pages[0]\n",
    "    print(page)"
   ]
  },
  {
   "cell_type": "code",
   "execution_count": 34,
   "metadata": {},
   "outputs": [],
   "source": [
    "\n",
    "writer = PyPDF2.PdfWriter()\n",
    "with open (\"Pdf teste.pdf\",'rb') as file:\n",
    "    reader = PyPDF2.PdfReader(file) \n",
    "    pagina = reader.pages[0]\n",
    "    rotatedPage = pagina.rotate(180)\n",
    "    writer.add_page(rotatedPage)\n",
    "    #Tambem escrevemos em binario 'wb'\n",
    "    with open('Pdf rotacionado 180.pdf', 'wb') as file:\n",
    "        writer.write(file)"
   ]
  },
  {
   "cell_type": "code",
   "execution_count": 35,
   "metadata": {},
   "outputs": [],
   "source": [
    "#combinando pdfs\n",
    "writer = PyPDF2.PdfWriter()\n",
    "with open (\"Pdf teste.pdf\",'rb') as file:\n",
    "    reader = PyPDF2.PdfReader(file) \n",
    "    pagina = reader.pages[0]\n",
    "    writer.add_page(pagina)\n",
    "    rotatedPage = pagina.rotate(180)\n",
    "    writer.add_page(rotatedPage)\n",
    "    with open('Pdf de duas paginas.pdf', 'wb') as file:\n",
    "        writer.write(file)\n"
   ]
  },
  {
   "cell_type": "code",
   "execution_count": 37,
   "metadata": {},
   "outputs": [],
   "source": [
    "#outra forma de unir pdfs\n",
    "\n",
    "merger = PyPDF2.PdfMerger()\n",
    "with open (\"Pdf teste.pdf\",'rb') as file:\n",
    "    reader = PyPDF2.PdfReader(file) \n",
    "    merger.append(reader)\n",
    "with open (\"Pdf rotacionado 180.pdf\",'rb') as file:\n",
    "    reader = PyPDF2.PdfReader(file) \n",
    "    merger.append(reader)\n",
    "with open('Pdf de duas paginas com merge.pdf', 'wb') as file:\n",
    "    writer.write(file)"
   ]
  },
  {
   "cell_type": "code",
   "execution_count": 43,
   "metadata": {},
   "outputs": [],
   "source": [
    "#aplicando uma marca d'agua\n",
    "template = PyPDF2.PdfReader(open('Pdf de duas paginas.pdf','rb'))\n",
    "marcaDAgua = PyPDF2.PdfReader(open('wtr.pdf','rb'))\n",
    "retorno = PyPDF2.PdfWriter()\n",
    "\n",
    "for n_pagina in range(0,len(template.pages)):\n",
    "    pagina = template.pages[n_pagina]\n",
    "    pagina.merge_page(marcaDAgua.pages[0])\n",
    "    retorno.add_page(pagina)\n",
    "\n",
    "\n",
    "with open('Pdf de duas paginas com marca dagua.pdf', 'wb') as file:\n",
    "    retorno.write(file)"
   ]
  }
 ],
 "metadata": {
  "kernelspec": {
   "display_name": "Python 3",
   "language": "python",
   "name": "python3"
  },
  "language_info": {
   "codemirror_mode": {
    "name": "ipython",
    "version": 3
   },
   "file_extension": ".py",
   "mimetype": "text/x-python",
   "name": "python",
   "nbconvert_exporter": "python",
   "pygments_lexer": "ipython3",
   "version": "3.11.9"
  }
 },
 "nbformat": 4,
 "nbformat_minor": 2
}
