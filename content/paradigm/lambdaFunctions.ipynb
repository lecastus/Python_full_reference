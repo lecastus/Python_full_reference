{
 "cells": [
  {
   "cell_type": "markdown",
   "metadata": {},
   "source": [
    "Lambda expressions\n",
    "One time use anonymous function "
   ]
  },
  {
   "cell_type": "code",
   "execution_count": 14,
   "metadata": {},
   "outputs": [
    {
     "name": "stdout",
     "output_type": "stream",
     "text": [
      "original: [1, 2, 3]\n",
      "com funcao feita: [2, 4, 6]\n",
      "com funcao lambda: [2, 4, 6]\n",
      "com funcao lambda: [True, False, True]\n",
      "com funcao lambda: 6\n"
     ]
    }
   ],
   "source": [
    "# lambda param: action(param)\n",
    "\n",
    "def only_odd(item):\n",
    "    if item%2>0: return item\n",
    "\n",
    "def multiply_by2(item):\n",
    "    return item*2\n",
    "\n",
    "def accumulator(acc, item):\n",
    "    print(acc,'+',item,'=',acc+item)\n",
    "    return acc+item\n",
    "\n",
    "\n",
    "my_list = [1,2,3]\n",
    "print('original:',my_list)\n",
    "print('com funcao feita:',list(map(multiply_by2,my_list)))\n",
    "print('com funcao lambda:',list(map(lambda item: item*2,my_list)))\n",
    "\n",
    "print('com funcao lambda:',list(map(lambda item: item%2 != 0,my_list)))\n",
    "\n",
    "from functools import reduce\n",
    "print('com funcao lambda:',reduce(lambda acc, item : acc + item ,my_list))\n",
    "\n"
   ]
  },
  {
   "cell_type": "code",
   "execution_count": 5,
   "metadata": {},
   "outputs": [
    {
     "name": "stdout",
     "output_type": "stream",
     "text": [
      "com funcao lambda: [25, 16, 9]\n",
      "[(0, 2), (4, 3), (9, 9), (10, -1)]\n",
      "[(10, -1), (0, 2), (4, 3), (9, 9)]\n"
     ]
    }
   ],
   "source": [
    "\n",
    "#Square\n",
    "my_list = [5,4,3]\n",
    "print('com funcao lambda:',list(map(lambda item: item**2,my_list)))\n",
    "\n",
    "#list sorting by the second number of each tuple\n",
    "a = [(0,2),(4,3),(9,9),(10,-1)]\n",
    "\n",
    "#sorting based in the first item\n",
    "a.sort()\n",
    "print(a)\n",
    "\n",
    "#sorting based in the first item\n",
    "a.sort(key=lambda x: x[1])\n",
    "print(a)\n",
    "\n",
    "\n"
   ]
  }
 ],
 "metadata": {
  "kernelspec": {
   "display_name": "Python 3",
   "language": "python",
   "name": "python3"
  },
  "language_info": {
   "codemirror_mode": {
    "name": "ipython",
    "version": 3
   },
   "file_extension": ".py",
   "mimetype": "text/x-python",
   "name": "python",
   "nbconvert_exporter": "python",
   "pygments_lexer": "ipython3",
   "version": "3.11.9"
  }
 },
 "nbformat": 4,
 "nbformat_minor": 2
}
