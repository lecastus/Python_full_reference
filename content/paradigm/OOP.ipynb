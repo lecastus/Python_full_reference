{
 "cells": [
  {
   "cell_type": "markdown",
   "metadata": {},
   "source": [
    "Tudo em python é um objeto -> class\n",
    "Uma nova classe funciona como uma nova tipagem de dado (int, str e etc...)\n",
    "ex: C3PO = robo()\n",
    "\n",
    "\n",
    "Objetos tem métodos e atributos\n",
    "\n",
    "Metodo:\n",
    "Ações inerentes à classe a quem o metodo pertence. Chamado pelo '.' apos a classe, com parenteses.\n",
    "ex: C3PO.translate(phare)\n",
    "\n",
    "Atributo:\n",
    "Caracteristicas inerentes à classe a quem o atributo pertence. Chamado pelo '.' apos a classe, sem parenteses.\n",
    "ex: C3PO.color = golden"
   ]
  },
  {
   "cell_type": "code",
   "execution_count": 3,
   "metadata": {},
   "outputs": [
    {
     "name": "stdout",
     "output_type": "stream",
     "text": [
      "<class '__main__.Robo'>\n",
      "<__main__.Robo object at 0x000001A191D0B670>\n"
     ]
    }
   ],
   "source": [
    "class Robo:\n",
    "    pass\n",
    "\n",
    "C3PO = Robo()\n",
    "\n",
    "print(Robo)\n",
    "print(C3PO)"
   ]
  },
  {
   "cell_type": "code",
   "execution_count": 11,
   "metadata": {},
   "outputs": [
    {
     "name": "stdout",
     "output_type": "stream",
     "text": [
      "<__main__.character object at 0x000001A1921470D0>\n",
      "Harry\n",
      "20\n",
      "My name is Harry and my membership is True\n",
      "<__main__.character object at 0x000001A19198D490>\n",
      "Ronny\n",
      "21\n",
      "My name is Ronny and my membership is True\n"
     ]
    }
   ],
   "source": [
    "class character :\n",
    "    #Class object atribute -> atributo que todo objeto vai compartilhar\n",
    "    membership = True\n",
    "    def __init__(self,name = 'anonymous') -> None:\n",
    "        self.name = name\n",
    "        \n",
    "\n",
    "    def run(self):\n",
    "        print('run')\n",
    "    \n",
    "    def shout (self):\n",
    "        print(f'My name is {self.name} and my membership is {self.membership}')\n",
    "\n",
    "player1 = character('Harry')\n",
    "player1.age = 20\n",
    "print(player1)\n",
    "print(player1.name)\n",
    "print(player1.age)\n",
    "player1.shout()\n",
    "\n",
    "player2 = character('Ronny')\n",
    "player2.age = 21\n",
    "print(player2)\n",
    "print(player2.name)\n",
    "print(player2.age)\n",
    "player2.shout()"
   ]
  },
  {
   "cell_type": "code",
   "execution_count": 7,
   "metadata": {},
   "outputs": [
    {
     "name": "stdout",
     "output_type": "stream",
     "text": [
      "The oldest cat is 3 years old.\n"
     ]
    }
   ],
   "source": [
    "#EXERCICIO\n",
    "#Given the below class:\n",
    "class Cat:\n",
    "    species = 'mammal'\n",
    "    def __init__(self, name, age):\n",
    "        self.name = name\n",
    "        self.age = age\n",
    "\n",
    "\n",
    "# 1 Instantiate the Cat object with 3 cats\n",
    "cat1 = Cat('Garfield',1)\n",
    "cat2 = Cat('Tom',2)\n",
    "cat3 = Cat('Strud',3)\n",
    "\n",
    "\n",
    "# 2 Create a function that finds the oldest cat\n",
    "def find_oldest_cat(*args):\n",
    "    return max(args)\n",
    "\n",
    "# 3 Print out: \"The oldest cat is x years old.\". x will be the oldest cat age by using the function in #2\n",
    "print(f'The oldest cat is {find_oldest_cat(cat1.age,cat2.age,cat3.age)} years old.')"
   ]
  },
  {
   "cell_type": "code",
   "execution_count": 12,
   "metadata": {},
   "outputs": [
    {
     "name": "stdout",
     "output_type": "stream",
     "text": [
      "3\n",
      "<__main__.character object at 0x000001AA67E7DBB0>\n",
      "6\n"
     ]
    }
   ],
   "source": [
    "#Methods and decorator\n",
    "#classeUsamCamelCase\n",
    "#Metodos podem ser ativados mesmo sem instanciar a classe\n",
    "#Metodos estaticos não tem acessos aos parametros da classe, enquanto os metodos de classe tem \n",
    "\n",
    "class character :\n",
    "    #Class object atribute -> atributo que todo objeto vai compartilhar\n",
    "    membership = True\n",
    "    def __init__(self,name = 'anonymous',age=0) -> None:\n",
    "        self.name = name\n",
    "        self.age = age\n",
    "    \n",
    "    @classmethod\n",
    "    def adding_things(cls,num1,num2):\n",
    "        return num1 + num2\n",
    "    \n",
    "    @classmethod\n",
    "    def instancia_com_a_soma(cls,num1,num2):\n",
    "        return character('Tom',num1 + num2)\n",
    "    \n",
    "    @staticmethod\n",
    "    def multiply_things(num1,num2):\n",
    "        return num1 * num2\n",
    "\n",
    "# Tom = character(name='Tom')\n",
    "# Tom.adding_things(1,2)\n",
    "\n",
    "print(character.adding_things(1,2))\n",
    "print(character.instancia_com_a_soma(1,2))\n",
    "print(character.multiply_things(2,3))"
   ]
  },
  {
   "cell_type": "code",
   "execution_count": 14,
   "metadata": {},
   "outputs": [
    {
     "name": "stdout",
     "output_type": "stream",
     "text": [
      "<__main__.character object at 0x000001AA67E7D820>\n"
     ]
    }
   ],
   "source": [
    "#Testando conceitos\n",
    "\n",
    "class character :\n",
    "    #Class object atribute -> atributo que todo objeto vai compartilhar\n",
    "    membership = True\n",
    "    def __init__(self,name = 'anonymous',age=0) -> None:\n",
    "        self.name = name\n",
    "        self.age = age\n",
    "    def run(self):\n",
    "        return self\n",
    "    \n",
    "player1 = character('Leandro',29)\n",
    "print(player1.run())\n",
    "#Self é o proprio objeto\n"
   ]
  },
  {
   "cell_type": "markdown",
   "metadata": {},
   "source": [
    "4 Pillars of OOP\n",
    "\n",
    "1. Encapsulation\n",
    "    - Putting everething in boxes, data and functions into attributes and methods\n",
    "2. Abstractions\n",
    "    - To Show only what is usefull for the user of the class/obj\n",
    "    - Values and results of methods or attributes, but hiding the way those have been built\n",
    "    - The user of the code does not see the inworkings of the obj\n",
    "    - ex: character.shout(), character.age\n",
    "3. Inheritance \n",
    "    - Objects can inheritage atribtutes and methods from enother\n",
    "4. Polymorphism \n",
    "    - Different attribute/method classes can share method names, but they wont represent the same attribute/method"
   ]
  },
  {
   "cell_type": "code",
   "execution_count": null,
   "metadata": {},
   "outputs": [],
   "source": [
    "#Private variables\n",
    "#Apenas uma convenção de grafia, não existe privacidade de fato\n",
    "\n",
    "class character :\n",
    "    #Class object atribute -> atributo que todo objeto vai compartilhar\n",
    "    membership = True\n",
    "    def __init__(self,name = 'anonymous',age=0) -> None:\n",
    "        self._name = name\n",
    "        self._age = age\n",
    "\n",
    "#Voce não deveria modificar atributos ou methodos com '_', ainda menos os que tem '__' pq são padrões do python"
   ]
  },
  {
   "cell_type": "code",
   "execution_count": 31,
   "metadata": {},
   "outputs": [
    {
     "name": "stdout",
     "output_type": "stream",
     "text": [
      "Tom has been logged in\n",
      "Bob has been logged in\n",
      "Attacking with power of Lighting\n",
      "Attacking with arrows and there if 15 left\n",
      "True\n",
      "True\n"
     ]
    }
   ],
   "source": [
    "# Inheritance\n",
    "# Classe wizard herdou as caracteristicas da classe character\n",
    "# Todo objeto herda as carcteristicas do objeto Object()\n",
    "\n",
    "class character :\n",
    "    #Class object atribute -> atributo que todo objeto vai compartilhar\n",
    "    membership = True\n",
    "    def __init__(self,name = 'anonymous',age=0) -> None:\n",
    "        self._name = name\n",
    "        self._age = age\n",
    "    def sign_in(self):\n",
    "        print(f'{self._name} has been logged in')\n",
    "\n",
    "class wizard(character):\n",
    "    def __init__(self,name,age,power):\n",
    "        self._name = name\n",
    "        self._power = power\n",
    "    def attack(self):\n",
    "        print(f'Attacking with power of {self._power}')\n",
    "\n",
    "class archer(character):\n",
    "    def __init__(self,name,age,arrows):\n",
    "        self._name = name\n",
    "        self._arrows = arrows\n",
    "    def attack(self):\n",
    "        print(f'Attacking with arrows and there if {self._arrows} left')\n",
    "\n",
    "\n",
    "Tom = wizard('Tom',29,'Lighting')\n",
    "Bob = archer('Bob',29,15)\n",
    "Tom.sign_in()\n",
    "Bob.sign_in()\n",
    "Tom.attack()\n",
    "Bob.attack()\n",
    "\n",
    "print(isinstance(Tom,wizard))\n",
    "print(isinstance(Tom,character))\n",
    "\n",
    "\n"
   ]
  },
  {
   "cell_type": "code",
   "execution_count": 29,
   "metadata": {},
   "outputs": [
    {
     "name": "stdout",
     "output_type": "stream",
     "text": [
      "Attacking with power of Lighting\n",
      "Attacking with arrows and there if 15 left\n",
      "--------------------\n",
      "Attacking with power of Lighting\n",
      "Attacking with arrows and there if 15 left\n"
     ]
    }
   ],
   "source": [
    "#polymorphism\n",
    "# Wizard e Archer tinham metodos com mesmo nome, mas eles fazem coisas diferentes pq estao em classes/objetos diferentes diferentes\n",
    "# No exemplo abaixo, vemos isso se manifestar no metodo .attack()\n",
    "\n",
    "def player_attack(char):\n",
    "    char.attack()\n",
    "\n",
    "player_attack(Tom)\n",
    "player_attack(Bob)\n",
    "print('--------------------')\n",
    "for char in [Tom,Bob]:\n",
    "    char.attack()\n"
   ]
  },
  {
   "cell_type": "code",
   "execution_count": 4,
   "metadata": {},
   "outputs": [
    {
     "name": "stdout",
     "output_type": "stream",
     "text": [
      "Simon is just walking around\n",
      "Sally is just walking around\n",
      "Tom is just walking around\n"
     ]
    }
   ],
   "source": [
    "#Exercice\n",
    "\n",
    "class Pets():\n",
    "    animals = []\n",
    "    def __init__(self, animals):\n",
    "        self.animals = animals\n",
    "\n",
    "    def walk(self):\n",
    "        for animal in self.animals:\n",
    "            print(animal.walk())\n",
    "\n",
    "class Cat():\n",
    "    is_lazy = True\n",
    "\n",
    "    def __init__(self, name, age):\n",
    "        self.name = name\n",
    "        self.age = age\n",
    "\n",
    "    def walk(self):\n",
    "        return f'{self.name} is just walking around'\n",
    "\n",
    "class Simon(Cat):\n",
    "    def sing(self, sounds):\n",
    "        return f'{sounds}'\n",
    "\n",
    "class Sally(Cat):\n",
    "    def sing(self, sounds):\n",
    "        return f'{sounds}'\n",
    "\n",
    "#1 Add nother Cat\n",
    "class Tom(Cat):\n",
    "    def fetch(self, sounds):\n",
    "        return f'{sounds}'\n",
    "    \n",
    "cat1 = Simon('Simon',2)\n",
    "cat2 = Sally('Sally',3)\n",
    "cat3 = Tom('Tom',4)\n",
    "\n",
    "\n",
    "#2 Create a list of all of the pets (create 3 cat instances from the above)\n",
    "my_cats = [cat1,cat2,cat3]\n",
    "\n",
    "#3 Instantiate the Pet class with all your cats use variable my_pets\n",
    "my_pets = Pets(my_cats)\n",
    "\n",
    "#4 Output all of the cats walking using the my_pets instance\n",
    "my_pets.walk()"
   ]
  },
  {
   "cell_type": "code",
   "execution_count": 3,
   "metadata": {},
   "outputs": [
    {
     "ename": "AttributeError",
     "evalue": "'wizard' object has no attribute 'email'",
     "output_type": "error",
     "traceback": [
      "\u001b[1;31m---------------------------------------------------------------------------\u001b[0m",
      "\u001b[1;31mAttributeError\u001b[0m                            Traceback (most recent call last)",
      "Cell \u001b[1;32mIn[3], line 28\u001b[0m\n\u001b[0;32m     25\u001b[0m         \u001b[38;5;28mprint\u001b[39m(\u001b[38;5;124mf\u001b[39m\u001b[38;5;124m'\u001b[39m\u001b[38;5;124mAttacking with arrows and there if \u001b[39m\u001b[38;5;132;01m{\u001b[39;00m\u001b[38;5;28mself\u001b[39m\u001b[38;5;241m.\u001b[39m_arrows\u001b[38;5;132;01m}\u001b[39;00m\u001b[38;5;124m left\u001b[39m\u001b[38;5;124m'\u001b[39m)\n\u001b[0;32m     27\u001b[0m wizard1 \u001b[38;5;241m=\u001b[39m wizard(\u001b[38;5;124m'\u001b[39m\u001b[38;5;124mMerlin\u001b[39m\u001b[38;5;124m'\u001b[39m,\u001b[38;5;241m60\u001b[39m,\u001b[38;5;124m'\u001b[39m\u001b[38;5;124mfire\u001b[39m\u001b[38;5;124m'\u001b[39m)\n\u001b[1;32m---> 28\u001b[0m \u001b[38;5;28mprint\u001b[39m(\u001b[43mwizard1\u001b[49m\u001b[38;5;241;43m.\u001b[39;49m\u001b[43memail\u001b[49m)\n",
      "\u001b[1;31mAttributeError\u001b[0m: 'wizard' object has no attribute 'email'"
     ]
    }
   ],
   "source": [
    "class character :\n",
    "    #Class object atribute -> atributo que todo objeto vai compartilhar\n",
    "    membership = True\n",
    "\n",
    "    def __init__(self,name = 'anonymous',age=0,email='') -> None:\n",
    "        self._name = name\n",
    "        self._age = age\n",
    "        self.email = email\n",
    "        \n",
    "    def sign_in(self):\n",
    "        print(f'{self._name} has been logged in')\n",
    "\n",
    "class wizard(character):\n",
    "    def __init__(self,name,age,power):\n",
    "        self._name = name\n",
    "        self._power = power\n",
    "    def attack(self):\n",
    "        print(f'Attacking with power of {self._power}')\n",
    "\n",
    "class archer(character):\n",
    "    def __init__(self,name,age,arrows):\n",
    "        self._name = name\n",
    "        self._arrows = arrows\n",
    "    def attack(self):\n",
    "        print(f'Attacking with arrows and there if {self._arrows} left')\n",
    "\n",
    "wizard1 = wizard('Merlin',60,'fire')\n",
    "# print(wizard1.email)\n"
   ]
  },
  {
   "cell_type": "code",
   "execution_count": 23,
   "metadata": {},
   "outputs": [
    {
     "name": "stdout",
     "output_type": "stream",
     "text": [
      "- merlin@gmail.com -\n",
      "['__class__', '__delattr__', '__dict__', '__dir__', '__doc__', '__eq__', '__format__', '__ge__', '__getattribute__', '__getstate__', '__gt__', '__hash__', '__init__', '__init_subclass__', '__le__', '__lt__', '__module__', '__ne__', '__new__', '__reduce__', '__reduce_ex__', '__repr__', '__setattr__', '__sizeof__', '__str__', '__subclasshook__', '__weakref__', '_age', '_name', '_power', 'attack', 'email', 'membership', 'sign_in']\n"
     ]
    }
   ],
   "source": [
    "#Super -> referece a classe da qual a classe atual herdou caracteristicas\n",
    "\n",
    "class character :\n",
    "    #Class object atribute -> atributo que todo objeto vai compartilhar\n",
    "    membership = True\n",
    "    def __init__(self,name = 'anonymous',age=0,email='@'):\n",
    "        self._name = name\n",
    "        self._age = age\n",
    "        self.email = email\n",
    "    def sign_in(self):\n",
    "        print(f'{self._name} has been logged in')\n",
    "\n",
    "class wizard(character):\n",
    "    def __init__(self,name,age,power,email):\n",
    "        super().__init__(name=name, age=age, email=email)\n",
    "        self._name = name\n",
    "        self._power = power\n",
    "    def attack(self):\n",
    "        print(f'Attacking with power of {self._power}')\n",
    "\n",
    "class archer(character):\n",
    "    def __init__(self,name,age,arrows):\n",
    "        self._name = name\n",
    "        self._arrows = arrows\n",
    "    def attack(self):\n",
    "        print(f'Attacking with arrows and there if {self._arrows} left')\n",
    "\n",
    "wizard1 = wizard(name='Merlin',age=60,power='fire',email='merlin@gmail.com')\n",
    "print('-',wizard1.email,'-')\n",
    "print(dir(wizard1))"
   ]
  },
  {
   "cell_type": "code",
   "execution_count": 25,
   "metadata": {},
   "outputs": [
    {
     "name": "stdout",
     "output_type": "stream",
     "text": [
      "['__class__', '__delattr__', '__dict__', '__dir__', '__doc__', '__eq__', '__format__', '__ge__', '__getattribute__', '__getstate__', '__gt__', '__hash__', '__init__', '__init_subclass__', '__le__', '__lt__', '__module__', '__ne__', '__new__', '__reduce__', '__reduce_ex__', '__repr__', '__setattr__', '__sizeof__', '__str__', '__subclasshook__', '__weakref__', '_age', '_name', '_power', 'attack', 'email', 'membership', 'sign_in']\n"
     ]
    }
   ],
   "source": [
    "# Instrospection\n",
    "# Avaliar o tipo de uma classe durante o executar do codigo \n",
    "print(dir(wizard1))"
   ]
  },
  {
   "cell_type": "code",
   "execution_count": 43,
   "metadata": {},
   "outputs": [
    {
     "name": "stdout",
     "output_type": "stream",
     "text": [
      "<__main__.Toy object at 0x0000024A65319F10> <__main__.Toy object at 0x0000024A65319F10> True\n",
      "-------------------------------------------------------------------------\n",
      "red red True\n",
      "5 5 True\n",
      "Yes?\n",
      "Yoyo\n"
     ]
    }
   ],
   "source": [
    "# Dunder Methods / Magic Methods\n",
    "\n",
    "class Toy():\n",
    "    def __init__(self,color,age) -> None:\n",
    "        self.color = color\n",
    "        self.age = age\n",
    "    \n",
    "action_figure = Toy('red',0)\n",
    "print(action_figure.__str__(),str(action_figure),str(action_figure)==action_figure.__str__())\n",
    "\n",
    "print('-------------------------------------------------------------------------')\n",
    "class Toy():\n",
    "    def __init__(self,color,age) -> None:\n",
    "        self.color = color\n",
    "        self.age = age\n",
    "        self.my_dict = {\n",
    "            'name':'Yoyo',\n",
    "            'has_pets':False\n",
    "        }\n",
    "    \n",
    "    def __str__(self):\n",
    "        return f'{self.color}'\n",
    "    \n",
    "    def __len__(self):\n",
    "        return 5\n",
    "    \n",
    "    def __del__(self):\n",
    "        print('deleted!')\n",
    "\n",
    "    def __call__(self):\n",
    "        return('Yes?')\n",
    "    \n",
    "    def __getitem__(self,i):\n",
    "        return self.my_dict[i]\n",
    "\n",
    "action_figure = Toy('red',0)\n",
    "#Modificamos o metodo __str__ para retornar um string especifico, no lugar do voltar o str da classe usada\n",
    "print(action_figure.__str__(),str(action_figure),str(action_figure)==action_figure.__str__())\n",
    "#Aqui nos criamos um metodo novo para a classe que ela não tinha antes. Se tentar len() antes dessa definição, vai dar bug\n",
    "print(action_figure.__len__(),len(action_figure),len(action_figure)==action_figure.__len__())\n",
    "#Aqui acrescentamos ao metodo que deleta o objeto e passa a também printar\n",
    "# del action_figure\n",
    "#Com o metodo call, se torna possivel chamar o objeto como se fosse uma função\n",
    "print(action_figure())\n",
    "#O metodo getitem permite chamar o objeto como se fosse um dicionário/lista segundo a definição do metodo Dunder\n",
    "print(action_figure['name'])"
   ]
  },
  {
   "cell_type": "code",
   "execution_count": 56,
   "metadata": {},
   "outputs": [
    {
     "name": "stdout",
     "output_type": "stream",
     "text": [
      "True\n",
      "True\n"
     ]
    }
   ],
   "source": [
    "#Aqui fizemos uma nova classe beasedos na classe de lista, acrescendo a ela para criar uma super lista\n",
    "class superList(list):\n",
    "    def __len__(self):\n",
    "        return 1000\n",
    "\n",
    "super_list1 = superList()\n",
    "len(super_list1)\n",
    "super_list1.append(5)\n",
    "super_list1[0]\n",
    "#É possivel verificar se uma classe é uma subclasse de outra\n",
    "print(issubclass(superList, list))\n",
    "print(issubclass(list, object))"
   ]
  },
  {
   "cell_type": "code",
   "execution_count": 81,
   "metadata": {},
   "outputs": [
    {
     "name": "stdout",
     "output_type": "stream",
     "text": [
      "Attacking with arrows and there if 30 left\n",
      "You have 29 in your quiver\n",
      "ran really fast\n",
      "Attacking with power of Fire\n",
      "Joe has been logged in\n"
     ]
    },
    {
     "data": {
      "text/plain": [
       "'\\nAo lidar com multiplas heranças, muito cuidado com o \"self\" transacionado entre elas! O self que herdou uma classe pode ser\\npassado para outra por acidente e isso gerará bugs. Busque usar os nomes das classes sendo herdadas, no lugar de super()\\nquando houver multipla herança.\\n'"
      ]
     },
     "execution_count": 81,
     "metadata": {},
     "output_type": "execute_result"
    }
   ],
   "source": [
    "class character :\n",
    "    #Class object atribute -> atributo que todo objeto vai compartilhar\n",
    "    membership = True\n",
    "    def __init__(self,name = 'anonymous',age=0,email='@'):\n",
    "        self._name = name\n",
    "        self._age = age\n",
    "        self.email = email\n",
    "    def sign_in(self):\n",
    "        print(f'{self._name} has been logged in')\n",
    "\n",
    "class wizard(character):\n",
    "    def __init__(self,name,age,power,email):\n",
    "        character.__init__(self,name=name, age=age, email=email)\n",
    "        self._name = name\n",
    "        self._power = power\n",
    "    def Spell(self):\n",
    "        print(f'Attacking with power of {self._power}')\n",
    "\n",
    "class archer(character):\n",
    "    def __init__(self,name,age,arrows,email):\n",
    "        character.__init__(self,name=name, age=age, email=email)\n",
    "        self._name = name\n",
    "        self._arrows = arrows\n",
    "    def Shoot(self):\n",
    "        print(f'Attacking with arrows and there if {self._arrows} left')\n",
    "        self._arrows += -1\n",
    "        if self._arrows == 0 :  print('Out of arrows!')\n",
    "\n",
    "    def check_arrows(self):\n",
    "        print(f'You have {self._arrows} in your quiver')\n",
    "        \n",
    "    def run(self):\n",
    "        print('ran really fast')\n",
    "\n",
    "#A ordem da herança importa. Como herdamos de wizard primeiro, ele vai herdar os atributos de __init__ apenas de wizard por defaut\n",
    "class ArcaneArcher(wizard,archer):\n",
    "    def __init__(self, name, age, power,arrows, email):\n",
    "        wizard.__init__(self,name,age,power,email)\n",
    "        archer.__init__(self,name,age,arrows,email)\n",
    "\n",
    "arcaneArcher1 = ArcaneArcher(name='Joe',age=30,power='Fire',arrows = 30,email = 'joe@gmail.com')\n",
    "arcaneArcher1.Shoot()\n",
    "arcaneArcher1.check_arrows()\n",
    "arcaneArcher1.run()\n",
    "arcaneArcher1.Spell()\n",
    "arcaneArcher1.sign_in()\n",
    "\n",
    "\n",
    "'''\n",
    "Ao lidar com multiplas heranças, muito cuidado com o \"self\" transacionado entre elas! O self que herdou uma classe pode ser\n",
    "passado para outra por acidente e isso gerará bugs. Busque usar os nomes das classes sendo herdadas, no lugar de super()\n",
    "quando houver multipla herança.\n",
    "'''"
   ]
  },
  {
   "cell_type": "code",
   "execution_count": 2,
   "metadata": {},
   "outputs": [
    {
     "name": "stdout",
     "output_type": "stream",
     "text": [
      "1\n",
      "[<class '__main__.D'>, <class '__main__.B'>, <class '__main__.C'>, <class '__main__.A'>, <class 'object'>]\n"
     ]
    }
   ],
   "source": [
    "# MRO - Method Resolution Order\n",
    "# Regra para determinar priorização na ordem de herença\n",
    "\n",
    "class A:\n",
    "    num = 10\n",
    "\n",
    "class B(A):\n",
    "    pass\n",
    "\n",
    "class C(A):\n",
    "    num = 1\n",
    "\n",
    "class D(B,C):\n",
    "    pass\n",
    "\n",
    "print(D.num)\n",
    "#Ordem de herança para D: D -> B -> C -> A -> object\n",
    "print(D.mro())\n"
   ]
  },
  {
   "cell_type": "code",
   "execution_count": 4,
   "metadata": {},
   "outputs": [
    {
     "data": {
      "text/plain": [
       "(__main__.M,\n",
       " __main__.B,\n",
       " __main__.A,\n",
       " __main__.X,\n",
       " __main__.Y,\n",
       " __main__.Z,\n",
       " object)"
      ]
     },
     "execution_count": 4,
     "metadata": {},
     "output_type": "execute_result"
    }
   ],
   "source": [
    "#Depth for Search\n",
    "class X: pass\n",
    "class Y: pass\n",
    "class Z: pass\n",
    "class A(X,Y): pass\n",
    "class B(Y,Z): pass\n",
    "class M(B,A,Z): pass\n",
    "\n",
    "M.__mro__\n",
    "#A ordem final esta ligada a ordem dos parametros passados. Verificamos X antes de Z por conta do algoritmo de busca por profundidade\n"
   ]
  },
  {
   "cell_type": "code",
   "execution_count": null,
   "metadata": {},
   "outputs": [],
   "source": []
  }
 ],
 "metadata": {
  "kernelspec": {
   "display_name": "Python 3",
   "language": "python",
   "name": "python3"
  },
  "language_info": {
   "codemirror_mode": {
    "name": "ipython",
    "version": 3
   },
   "file_extension": ".py",
   "mimetype": "text/x-python",
   "name": "python",
   "nbconvert_exporter": "python",
   "pygments_lexer": "ipython3",
   "version": "3.11.9"
  }
 },
 "nbformat": 4,
 "nbformat_minor": 2
}
