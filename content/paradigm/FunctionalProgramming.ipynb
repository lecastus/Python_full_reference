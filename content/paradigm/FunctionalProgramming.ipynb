{
 "cells": [
  {
   "cell_type": "markdown",
   "metadata": {},
   "source": [
    "Ordenamento de atividades em funções. Separating concerns\n",
    "\n",
    "Pure function:\n",
    "1. uma função que recebe um input e sempre retorna o mesmo output\n",
    "2. Não produz side effects no resto do codigo\n",
    "\n",
    "Princípios\n",
    "\n"
   ]
  },
  {
   "cell_type": "code",
   "execution_count": 4,
   "metadata": {},
   "outputs": [
    {
     "name": "stdout",
     "output_type": "stream",
     "text": [
      "[2, 4, 6]\n",
      "[2, 4, 6]\n"
     ]
    }
   ],
   "source": [
    "def multiply_by2(li):\n",
    "    new_list = []\n",
    "    for item in li:\n",
    "        new_list.append(item*2)\n",
    "    return new_list\n",
    "\n",
    "print(multiply_by2([1,2,3]))\n",
    "#É uma função pura\n",
    "#1. A função sempre retorna o mesmo output, dado um input\n",
    "#2. A função não produz efeitos externos ao resto do codigo\n",
    "\n",
    "\n",
    "new_list = [1,2,3]\n",
    "def multiply_by2(li):\n",
    "    new_list = []\n",
    "    for item in li:\n",
    "        new_list.append(item*2)\n",
    "    return new_list\n",
    "\n",
    "print(multiply_by2([1,2,3]))\n",
    "#1. A função sempre retorna o mesmo output, dado um input\n",
    "#2. Agora a função esta causando um efeito alem do tratamento do input e retorno do output\n",
    "    #new_list sendo alterada ao ser redefinida"
   ]
  },
  {
   "cell_type": "code",
   "execution_count": 21,
   "metadata": {},
   "outputs": [
    {
     "name": "stdout",
     "output_type": "stream",
     "text": [
      "[2, 4, 6]\n",
      "[1, 2, 3]\n",
      "   data\n",
      "0     1\n",
      "1     2\n",
      "2     3\n",
      "   data\n",
      "0     2\n",
      "1     4\n",
      "2     6\n"
     ]
    }
   ],
   "source": [
    "#map, filter, zip and reduce\n",
    "\n",
    "\n",
    "#MAP\n",
    "# Estrutura -> map(action,data)\n",
    "# Retorna um objeto que deve ser tornado uma lista para acessar seu conteudo\n",
    "# O map despreza a necessidade de interar dentro da função para um conjunto de dados\n",
    "def multiply_by2_old(li):\n",
    "    new_list = []\n",
    "    for item in li:\n",
    "        new_list.append(item*2)\n",
    "    return new_list\n",
    "\n",
    "def multiply_by2(item):\n",
    "    return item*2\n",
    "my_list = [1,2,3]\n",
    "print(list(map (multiply_by2,my_list)))\n",
    "print(my_list)\n",
    "# O resultado o map cria uma nova lista como resultado da função e não muda a original\n",
    "    # Pure function\n",
    "\n",
    "#Aplicando uma função a todos os valores de uma coluna de DataFrame\n",
    "import pandas as pd\n",
    "data = pd.DataFrame([1,2,3],columns=['data'])\n",
    "print(data)\n",
    "data['data'] = list(map(multiply_by2,list(data['data'])))\n",
    "print(data)"
   ]
  },
  {
   "cell_type": "code",
   "execution_count": 28,
   "metadata": {},
   "outputs": [
    {
     "name": "stdout",
     "output_type": "stream",
     "text": [
      "[1, 2, 3]\n",
      "[1, 3]\n"
     ]
    }
   ],
   "source": [
    "#Filter\n",
    "\n",
    "def only_odd(item):\n",
    "    if item%2>0: return item\n",
    "\n",
    "my_list = [1,2,3]\n",
    "print(my_list)\n",
    "print(list(filter(only_odd,my_list)))\n",
    "\n",
    "#Não funciona para filtrar linhas ou colunas de um Dataframe\n"
   ]
  },
  {
   "cell_type": "code",
   "execution_count": 31,
   "metadata": {},
   "outputs": [
    {
     "name": "stdout",
     "output_type": "stream",
     "text": [
      "[1, 2, 3]\n",
      "[(1, 10), (2, 20), (3, 30)]\n",
      "[('Leandro', 29, 'Zé mané'), ('Otavio', 25, 'Zé Ruela'), ('Maria Laura', 22, 'Carecolau'), ('Marilia Gabriela', 15, 'Xulé')]\n"
     ]
    }
   ],
   "source": [
    "#ZIP\n",
    "#Unifica itens. Funciona com qualquer estrutura iteravel \n",
    "\n",
    "def only_odd(item):\n",
    "    if item%2>0: return item\n",
    "\n",
    "def multiply_by2(item):\n",
    "    return item*2\n",
    "\n",
    "my_list = [1,2,3]\n",
    "your_list = [10,20,30]\n",
    "print(my_list)\n",
    "print(list(zip(my_list,your_list)))\n",
    "\n",
    "nomes = ['Leandro','Otavio','Maria Laura','Marilia Gabriela']\n",
    "idades = [29,25,22,15]\n",
    "apelidos_que_o_pai_criava = ['Zé mané', 'Zé Ruela', 'Carecolau', 'Xulé']\n",
    "dados_compilados = list(zip(nomes,idades,apelidos_que_o_pai_criava))\n",
    "print(dados_compilados)"
   ]
  },
  {
   "cell_type": "code",
   "execution_count": 38,
   "metadata": {},
   "outputs": [
    {
     "name": "stdout",
     "output_type": "stream",
     "text": [
      "0 + 1 = 1\n",
      "1 + 2 = 3\n",
      "3 + 3 = 6\n",
      "6\n"
     ]
    }
   ],
   "source": [
    "#Reduce \n",
    "#Precisa ter uma variavel de acumulador, no caso usamos o acc\n",
    "#Vai acomplicar a função escolhida de maneira cumulativa \n",
    "\n",
    "from functools import reduce\n",
    "\n",
    "def only_odd(item):\n",
    "    if item%2>0: return item\n",
    "\n",
    "def multiply_by2(item):\n",
    "    return item*2\n",
    "\n",
    "def accumulator(acc, item):\n",
    "    print(acc,'+',item,'=',acc+item)\n",
    "    return acc+item\n",
    "\n",
    "my_list = [1,2,3]\n",
    "print(reduce(accumulator,my_list,0))"
   ]
  },
  {
   "cell_type": "code",
   "execution_count": 54,
   "metadata": {},
   "outputs": [
    {
     "name": "stdout",
     "output_type": "stream",
     "text": [
      "['Sisi', 'Bibi', 'Titi', 'Carla']\n",
      "(('a', 1), ('b', 2), ('c', 3), ('d', 4), ('e', 5))\n",
      "[73, 65, 76, 100, 88]\n",
      "456\n"
     ]
    }
   ],
   "source": [
    "#Exercicio\n",
    "\n",
    "from functools import reduce\n",
    "\n",
    "#1 Capitalize all of the pet names and print the list\n",
    "my_pets = ['sisi', 'bibi', 'titi', 'carla']\n",
    "\n",
    "def capitalize(item):\n",
    "    return item.capitalize()\n",
    "\n",
    "print(list(map(capitalize,my_pets)))\n",
    "\n",
    "#2 Zip the 2 lists into a list of tuples, but sort the numbers from lowest to highest.\n",
    "my_strings = ['a', 'b', 'c', 'd', 'e']\n",
    "my_numbers = [5,4,3,2,1]\n",
    "\n",
    "print(tuple(list(zip(my_strings,sorted(my_numbers)))))\n",
    "\n",
    "#3 Filter the scores that pass over 50%\n",
    "scores = [73, 20, 65, 19, 76, 100, 88]\n",
    "\n",
    "def e_mais_de_50(item):\n",
    "    return item>50\n",
    "\n",
    "print(list(filter(e_mais_de_50,scores)))\n",
    "\n",
    "\n",
    "#4 Combine all of the numbers that are in a list on this file using reduce (my_numbers and scores). What is the total?\n",
    "\n",
    "def accumulator(acc, item):\n",
    "    return acc+item\n",
    "\n",
    "print(reduce(accumulator,(my_numbers+scores),0))"
   ]
  }
 ],
 "metadata": {
  "kernelspec": {
   "display_name": "Python 3",
   "language": "python",
   "name": "python3"
  },
  "language_info": {
   "codemirror_mode": {
    "name": "ipython",
    "version": 3
   },
   "file_extension": ".py",
   "mimetype": "text/x-python",
   "name": "python",
   "nbconvert_exporter": "python",
   "pygments_lexer": "ipython3",
   "version": "3.11.9"
  }
 },
 "nbformat": 4,
 "nbformat_minor": 2
}
