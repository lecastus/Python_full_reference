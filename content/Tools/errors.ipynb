{
 "cells": [
  {
   "cell_type": "code",
   "execution_count": 3,
   "metadata": {},
   "outputs": [
    {
     "ename": "NameError",
     "evalue": "name 'nome' is not defined",
     "output_type": "error",
     "traceback": [
      "\u001b[1;31m---------------------------------------------------------------------------\u001b[0m",
      "\u001b[1;31mNameError\u001b[0m                                 Traceback (most recent call last)",
      "Cell \u001b[1;32mIn[3], line 7\u001b[0m\n\u001b[0;32m      1\u001b[0m \u001b[38;5;66;03m#Error Handling\u001b[39;00m\n\u001b[0;32m      2\u001b[0m \u001b[38;5;66;03m#Erro que trava um programa é uma exception\u001b[39;00m\n\u001b[0;32m      3\u001b[0m \u001b[38;5;66;03m#Existem diversos tipos:\u001b[39;00m\n\u001b[0;32m      4\u001b[0m     \u001b[38;5;66;03m#SyntaxError\u001b[39;00m\n\u001b[0;32m      5\u001b[0m     \u001b[38;5;66;03m# def hoooo()\u001b[39;00m\n\u001b[0;32m      6\u001b[0m     \u001b[38;5;66;03m#NameError\u001b[39;00m\n\u001b[1;32m----> 7\u001b[0m \u001b[43mnome\u001b[49m \u001b[38;5;241m+\u001b[39m\u001b[38;5;241m1\u001b[39m\n",
      "\u001b[1;31mNameError\u001b[0m: name 'nome' is not defined"
     ]
    }
   ],
   "source": [
    "#Error Handling\n",
    "#Erro que trava um programa é uma exception\n",
    "#Existem diversos tipos:\n",
    "    #SyntaxError\n",
    "        # def hoooo()\n",
    "    #NameError\n",
    "        # nome +1\n",
    "    # IndexErro or KeyError\n",
    "        # list[1]\n",
    "        # list['a']\n",
    "    # Divisionbyzero \n",
    "        # 2/0\n"
   ]
  },
  {
   "cell_type": "code",
   "execution_count": 3,
   "metadata": {},
   "outputs": [
    {
     "name": "stdout",
     "output_type": "stream",
     "text": [
      "30\n",
      "Thank you\n"
     ]
    }
   ],
   "source": [
    "#Sempre que um erro ocorrer dentro do block try, irá executar o que esta no bloco except\n",
    "\n",
    "while True:\n",
    "    try:\n",
    "        age = int(input('Whats your age'))\n",
    "        print(age)\n",
    "    except :\n",
    "        print('please enter a number')\n",
    "    else:\n",
    "        print('Thank you')\n",
    "        break"
   ]
  },
  {
   "cell_type": "code",
   "execution_count": 5,
   "metadata": {},
   "outputs": [
    {
     "name": "stdout",
     "output_type": "stream",
     "text": [
      "10\n",
      "please enter a number\n"
     ]
    }
   ],
   "source": [
    "#Um erro que não é de tipagem esta jogando para o except, no caso de inputar 0\n",
    "while True:\n",
    "    try:\n",
    "        age = int(input('Whats your age'))\n",
    "        print(age)\n",
    "        10/age\n",
    "    except :\n",
    "        print('please enter a number')\n",
    "    else:\n",
    "        print('Thank you')\n",
    "        break\n",
    "    "
   ]
  },
  {
   "cell_type": "code",
   "execution_count": 6,
   "metadata": {},
   "outputs": [
    {
     "name": "stdout",
     "output_type": "stream",
     "text": [
      "0\n",
      "please, entrer a value higher than 0\n"
     ]
    }
   ],
   "source": [
    "#Um erro que não é de tipagem esta jogando para o except. Gerindo mais de um tipo de erro\n",
    "while True:\n",
    "    try:\n",
    "        age = int(input('Whats your age'))\n",
    "        print(age)\n",
    "        10/age\n",
    "    except ValueError:\n",
    "        print('please enter a number')\n",
    "    except ZeroDivisionError:\n",
    "        print('please, entrer a value higher than 0')\n",
    "    else:\n",
    "        print('Thank you')\n",
    "        break"
   ]
  },
  {
   "cell_type": "code",
   "execution_count": 14,
   "metadata": {},
   "outputs": [
    {
     "name": "stdout",
     "output_type": "stream",
     "text": [
      "Please, enter numbers higher than 0can only concatenate str (not \"int\") to str\n",
      "None\n"
     ]
    }
   ],
   "source": [
    "def sum (n1,n2):\n",
    "    try:\n",
    "        return n1+n2\n",
    "    except (TypeError, ZeroDivisionError) as err:\n",
    "        print(f'Please, enter numbers higher than 0 {err}')\n",
    "\n",
    "print(sum('1',2))"
   ]
  },
  {
   "cell_type": "code",
   "execution_count": 22,
   "metadata": {},
   "outputs": [
    {
     "name": "stdout",
     "output_type": "stream",
     "text": [
      "18\n",
      "Thank you\n",
      "Ok, I'm done\n"
     ]
    }
   ],
   "source": [
    "#O bloco finally sempre executa no final, independente de da erro ou não \n",
    "# print('can you hear me?') executa pq o loop não é quebrado, mas finally roda igual\n",
    "#continue quebra a iteração do loop e vai para uma nova\n",
    "\n",
    "while True:\n",
    "    try:\n",
    "        age = int(input('Whats your age'))\n",
    "        print(age)\n",
    "        10/age\n",
    "    except ValueError:\n",
    "        print('please enter a number')\n",
    "        continue\n",
    "    except ZeroDivisionError:\n",
    "        print('please, entrer a value higher than 0')\n",
    "    else:\n",
    "        print('Thank you')\n",
    "        break\n",
    "    finally:\n",
    "        print(\"Ok, I'm done\")\n",
    "    print('can you hear me?')\n"
   ]
  },
  {
   "cell_type": "code",
   "execution_count": 23,
   "metadata": {},
   "outputs": [
    {
     "name": "stdout",
     "output_type": "stream",
     "text": [
      "10\n",
      "Ok, I'm done\n"
     ]
    },
    {
     "ename": "ValueError",
     "evalue": "Hey, cut it out",
     "output_type": "error",
     "traceback": [
      "\u001b[1;31m---------------------------------------------------------------------------\u001b[0m",
      "\u001b[1;31mValueError\u001b[0m                                Traceback (most recent call last)",
      "Cell \u001b[1;32mIn[23], line 7\u001b[0m\n\u001b[0;32m      5\u001b[0m     \u001b[38;5;28mprint\u001b[39m(age)\n\u001b[0;32m      6\u001b[0m     \u001b[38;5;241m10\u001b[39m\u001b[38;5;241m/\u001b[39mage\n\u001b[1;32m----> 7\u001b[0m     \u001b[38;5;28;01mraise\u001b[39;00m \u001b[38;5;167;01mValueError\u001b[39;00m(\u001b[38;5;124m'\u001b[39m\u001b[38;5;124mHey, cut it out\u001b[39m\u001b[38;5;124m'\u001b[39m)\n\u001b[0;32m      8\u001b[0m \u001b[38;5;28;01mexcept\u001b[39;00m \u001b[38;5;167;01mZeroDivisionError\u001b[39;00m:\n\u001b[0;32m      9\u001b[0m     \u001b[38;5;28mprint\u001b[39m(\u001b[38;5;124m'\u001b[39m\u001b[38;5;124mplease, entrer a value higher than 0\u001b[39m\u001b[38;5;124m'\u001b[39m)\n",
      "\u001b[1;31mValueError\u001b[0m: Hey, cut it out"
     ]
    }
   ],
   "source": [
    "#Podemos indicar um erro via codigo 'raise error'\n",
    "while True:\n",
    "    try:\n",
    "        age = int(input('Whats your age'))\n",
    "        print(age)\n",
    "        10/age\n",
    "        raise ValueError('Hey, cut it out')\n",
    "    except ZeroDivisionError:\n",
    "        print('please, entrer a value higher than 0')\n",
    "    else:\n",
    "        print('Thank you')\n",
    "        break\n",
    "    finally:\n",
    "        print(\"Ok, I'm done\")\n",
    "    print('can you hear me?')"
   ]
  }
 ],
 "metadata": {
  "kernelspec": {
   "display_name": "Python 3",
   "language": "python",
   "name": "python3"
  },
  "language_info": {
   "codemirror_mode": {
    "name": "ipython",
    "version": 3
   },
   "file_extension": ".py",
   "mimetype": "text/x-python",
   "name": "python",
   "nbconvert_exporter": "python",
   "pygments_lexer": "ipython3",
   "version": "3.11.9"
  }
 },
 "nbformat": 4,
 "nbformat_minor": 2
}
