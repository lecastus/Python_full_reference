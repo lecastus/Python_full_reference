{
 "cells": [
  {
   "cell_type": "code",
   "execution_count": 10,
   "metadata": {},
   "outputs": [
    {
     "name": "stdout",
     "output_type": "stream",
     "text": [
      "Counter({1: 2, 2: 1, 3: 1, 4: 1, 5: 1})\n",
      "Counter({'b': 2, 'l': 2, 'a': 2, 'c': 2, 'k': 2, ' ': 2, 'i': 1, 'n': 1})\n",
      "nao existe\n",
      "False\n",
      "('b', 2)\n",
      "('a', 1)\n"
     ]
    },
    {
     "ename": "",
     "evalue": "",
     "output_type": "error",
     "traceback": [
      "\u001b[1;31mThe Kernel crashed while executing code in the current cell or a previous cell. \n",
      "\u001b[1;31mPlease review the code in the cell(s) to identify a possible cause of the failure. \n",
      "\u001b[1;31mClick <a href='https://aka.ms/vscodeJupyterKernelCrash'>here</a> for more info. \n",
      "\u001b[1;31mView Jupyter <a href='command:jupyter.viewOutput'>log</a> for further details."
     ]
    }
   ],
   "source": [
    "from collections import Counter, defaultdict, OrderedDict\n",
    "\n",
    "list = [1, 2, 3, 4, 5, 1]\n",
    "print(Counter(list))\n",
    "\n",
    "texto = 'black in black'\n",
    "print(Counter(texto))\n",
    "\n",
    "dictionary = {'a':1,'b':2}\n",
    "# print(dictionary['c']) -> aqui daria erro de key\n",
    "#defaultdict da um valor padrão quando o key exigido não existe\n",
    "dictionary = defaultdict(lambda:'nao existe',{'a':1,'b':2})\n",
    "print(dictionary['c'])\n",
    "\n",
    "#Com o ordereddict passa a levar a ordem em consideração. Aqui, a ordem das keys é um valor relevante para avaliar igualdade\n",
    "dictionary1 = OrderedDict()\n",
    "dictionary1['a'] = 1\n",
    "dictionary1['b'] = 2\n",
    "\n",
    "dictionary2 = OrderedDict()\n",
    "dictionary2['b'] = 2\n",
    "dictionary2['a'] = 1\n",
    "\n",
    "print(dictionary1 == dictionary2)\n",
    "\n",
    "for i in dictionary2.items():\n",
    "    print(i)\n"
   ]
  },
  {
   "cell_type": "code",
   "execution_count": 2,
   "metadata": {},
   "outputs": [
    {
     "name": "stdout",
     "output_type": "stream",
     "text": [
      "00:00:00\n",
      "2024-11-12\n"
     ]
    }
   ],
   "source": [
    "import datetime\n",
    "\n",
    "print(datetime.time())\n",
    "print(datetime.date.today())"
   ]
  },
  {
   "cell_type": "code",
   "execution_count": null,
   "metadata": {},
   "outputs": [
    {
     "name": "stdout",
     "output_type": "stream",
     "text": [
      "array('i', [1, 2, 3])\n",
      "1\n"
     ]
    }
   ],
   "source": [
    "from array import array\n",
    "\n",
    "#listas sao dinamicas com seu tamanho. Arrays usam menos memoria e performam melhor, pq o array recebem como parametro a qtd de memoria q a variavel usa na maquina e tipagem\n",
    "\n",
    "arr = array('i',[1,2,3])\n",
    "print(arr)\n",
    "print(arr[0])\n",
    "\n",
    "#funciona melhor com generators"
   ]
  }
 ],
 "metadata": {
  "kernelspec": {
   "display_name": "Python 3",
   "language": "python",
   "name": "python3"
  },
  "language_info": {
   "codemirror_mode": {
    "name": "ipython",
    "version": 3
   },
   "file_extension": ".py",
   "mimetype": "text/x-python",
   "name": "python",
   "nbconvert_exporter": "python",
   "pygments_lexer": "ipython3",
   "version": "3.11.9"
  }
 },
 "nbformat": 4,
 "nbformat_minor": 2
}
