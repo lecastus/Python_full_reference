{
 "cells": [
  {
   "cell_type": "markdown",
   "metadata": {},
   "source": [
    "Input - output\n",
    "Ler e escrever arquivos"
   ]
  },
  {
   "cell_type": "code",
   "execution_count": 22,
   "metadata": {},
   "outputs": [
    {
     "name": "stdout",
     "output_type": "stream",
     "text": [
      "<_io.TextIOWrapper name='text.txt' mode='r' encoding='cp1252'>\n",
      "Not all that is gold does glitter\n",
      "Not all who wander are lost\n",
      "\n",
      "\n",
      "\n",
      "Ele vai ler apenas uma vez, porque python usa um cursor para ler o arquivo. Se ele leu uma vez, o cursor ja passou pelo texto\n",
      "Not all that is gold does glitter\n",
      "Not all who wander are lost\n",
      "\n",
      "Com seek, estamos puxando o cursos de volta para a primeira posição\n",
      "lendo a primeira vez uma linha sozinha Not all that is gold does glitter\n",
      "\n",
      "lendo a segunda vez uma linha sozinha Not all who wander are lost\n",
      "\n",
      "['Not all that is gold does glitter\\n', 'Not all who wander are lost\\n']\n"
     ]
    }
   ],
   "source": [
    "my_file = open('text.txt')\n",
    "print(my_file)\n",
    "print(my_file.read())\n",
    "print(my_file.read())\n",
    "print(my_file.read())\n",
    "print('Ele vai ler apenas uma vez, porque python usa um cursor para ler o arquivo. Se ele leu uma vez, o cursor ja passou pelo texto')\n",
    "my_file.seek(0)\n",
    "print(my_file.read())\n",
    "print('Com seek, estamos puxando o cursos de volta para a primeira posição')\n",
    "my_file.seek(0)\n",
    "print('lendo a primeira vez uma linha sozinha',my_file.readline())\n",
    "print('lendo a segunda vez uma linha sozinha',my_file.readline())\n",
    "my_file.seek(0)\n",
    "print(my_file.readlines())\n",
    "my_file.close()"
   ]
  },
  {
   "cell_type": "code",
   "execution_count": null,
   "metadata": {},
   "outputs": [
    {
     "name": "stdout",
     "output_type": "stream",
     "text": [
      "!ste texto nÃ£o foi editado\n"
     ]
    }
   ],
   "source": [
    "\n",
    "#Com with, não precisamos fechar o arquivo\n",
    "#mode assume q estamos lendo 'r', mas podemos escrever com 'w', aqui ele assume que e um arquivo novo. Tambem podemos fazer os dois com 'r+'\n",
    "with open('edit_text.txt', mode='r+') as my_file:\n",
    "    # print(my_file.read())\n",
    "    my_file.write('!')\n",
    "    my_file.seek(0)\n",
    "    print(my_file.read())\n",
    "    #A escrita vai acontecer na posição do cursos. Começa no primeiro caracter\n",
    "    "
   ]
  },
  {
   "cell_type": "code",
   "execution_count": null,
   "metadata": {},
   "outputs": [
    {
     "name": "stdout",
     "output_type": "stream",
     "text": [
      "Este texto nÃ£o foi editado!\n"
     ]
    }
   ],
   "source": [
    "with open('edit_text.txt', mode='r+') as my_file:\n",
    "    my_file.seek(len(my_file.read()))\n",
    "    my_file.write('!')\n",
    "    my_file.seek(0)\n",
    "    print(my_file.read())\n",
    "\n",
    "#Agora sim\n"
   ]
  },
  {
   "cell_type": "code",
   "execution_count": null,
   "metadata": {},
   "outputs": [
    {
     "name": "stdout",
     "output_type": "stream",
     "text": [
      "1\n"
     ]
    }
   ],
   "source": [
    "#tambem podemos usar append com o mode a\n",
    "with open('edit_text.txt', mode='a') as my_file:\n",
    "    print(my_file.write('!'))\n",
    "#Este texto não foi editado!"
   ]
  },
  {
   "cell_type": "code",
   "execution_count": 42,
   "metadata": {},
   "outputs": [
    {
     "name": "stdout",
     "output_type": "stream",
     "text": [
      "23\n"
     ]
    }
   ],
   "source": [
    "with open('texto_novo.txt', mode='w') as my_file:\n",
    "    print(my_file.write('Um texto novo foi feito'))"
   ]
  },
  {
   "cell_type": "code",
   "execution_count": 2,
   "metadata": {},
   "outputs": [
    {
     "name": "stdout",
     "output_type": "stream",
     "text": [
      "23\n"
     ]
    }
   ],
   "source": [
    "with open('.//assets//texto_novo_dentro_de_uma_pasta.txt', mode='w') as my_file:\n",
    "    print(my_file.write('Um texto novo foi feito'))"
   ]
  },
  {
   "cell_type": "code",
   "execution_count": null,
   "metadata": {},
   "outputs": [],
   "source": [
    "import pathlib\n",
    "#compativel com windows ou linux para lidar com paths\n",
    "\n"
   ]
  },
  {
   "cell_type": "code",
   "execution_count": 5,
   "metadata": {},
   "outputs": [
    {
     "name": "stdout",
     "output_type": "stream",
     "text": [
      "file not found\n"
     ]
    },
    {
     "ename": "FileNotFoundError",
     "evalue": "[Errno 2] No such file or directory: './/assets//texto_diferente_dentro_de_uma_pasta.txt'",
     "output_type": "error",
     "traceback": [
      "\u001b[1;31m---------------------------------------------------------------------------\u001b[0m",
      "\u001b[1;31mFileNotFoundError\u001b[0m                         Traceback (most recent call last)",
      "Cell \u001b[1;32mIn[5], line 6\u001b[0m\n\u001b[0;32m      4\u001b[0m \u001b[38;5;28;01mexcept\u001b[39;00m \u001b[38;5;167;01mFileNotFoundError\u001b[39;00m \u001b[38;5;28;01mas\u001b[39;00m err:\n\u001b[0;32m      5\u001b[0m     \u001b[38;5;28mprint\u001b[39m(\u001b[38;5;124m'\u001b[39m\u001b[38;5;124mfile not found\u001b[39m\u001b[38;5;124m'\u001b[39m)\n\u001b[1;32m----> 6\u001b[0m     \u001b[38;5;28;01mraise\u001b[39;00m err\n\u001b[0;32m      7\u001b[0m \u001b[38;5;28;01mexcept\u001b[39;00m \u001b[38;5;167;01mIOError\u001b[39;00m \u001b[38;5;28;01mas\u001b[39;00m erro:\n\u001b[0;32m      8\u001b[0m     \u001b[38;5;28mprint\u001b[39m(\u001b[38;5;124m'\u001b[39m\u001b[38;5;124mIO error\u001b[39m\u001b[38;5;124m'\u001b[39m)\n",
      "Cell \u001b[1;32mIn[5], line 2\u001b[0m\n\u001b[0;32m      1\u001b[0m \u001b[38;5;28;01mtry\u001b[39;00m:\n\u001b[1;32m----> 2\u001b[0m     \u001b[38;5;28;01mwith\u001b[39;00m \u001b[38;5;28;43mopen\u001b[39;49m\u001b[43m(\u001b[49m\u001b[38;5;124;43m'\u001b[39;49m\u001b[38;5;124;43m.//assets//texto_diferente_dentro_de_uma_pasta.txt\u001b[39;49m\u001b[38;5;124;43m'\u001b[39;49m\u001b[43m,\u001b[49m\u001b[43m \u001b[49m\u001b[43mmode\u001b[49m\u001b[38;5;241;43m=\u001b[39;49m\u001b[38;5;124;43m'\u001b[39;49m\u001b[38;5;124;43mr+\u001b[39;49m\u001b[38;5;124;43m'\u001b[39;49m\u001b[43m)\u001b[49m \u001b[38;5;28;01mas\u001b[39;00m my_file:\n\u001b[0;32m      3\u001b[0m         \u001b[38;5;28mprint\u001b[39m(my_file\u001b[38;5;241m.\u001b[39mread())\n\u001b[0;32m      4\u001b[0m \u001b[38;5;28;01mexcept\u001b[39;00m \u001b[38;5;167;01mFileNotFoundError\u001b[39;00m \u001b[38;5;28;01mas\u001b[39;00m err:\n",
      "File \u001b[1;32m~\\AppData\\Local\\Packages\\PythonSoftwareFoundation.Python.3.11_qbz5n2kfra8p0\\LocalCache\\local-packages\\Python311\\site-packages\\IPython\\core\\interactiveshell.py:324\u001b[0m, in \u001b[0;36m_modified_open\u001b[1;34m(file, *args, **kwargs)\u001b[0m\n\u001b[0;32m    317\u001b[0m \u001b[38;5;28;01mif\u001b[39;00m file \u001b[38;5;129;01min\u001b[39;00m {\u001b[38;5;241m0\u001b[39m, \u001b[38;5;241m1\u001b[39m, \u001b[38;5;241m2\u001b[39m}:\n\u001b[0;32m    318\u001b[0m     \u001b[38;5;28;01mraise\u001b[39;00m \u001b[38;5;167;01mValueError\u001b[39;00m(\n\u001b[0;32m    319\u001b[0m         \u001b[38;5;124mf\u001b[39m\u001b[38;5;124m\"\u001b[39m\u001b[38;5;124mIPython won\u001b[39m\u001b[38;5;124m'\u001b[39m\u001b[38;5;124mt let you open fd=\u001b[39m\u001b[38;5;132;01m{\u001b[39;00mfile\u001b[38;5;132;01m}\u001b[39;00m\u001b[38;5;124m by default \u001b[39m\u001b[38;5;124m\"\u001b[39m\n\u001b[0;32m    320\u001b[0m         \u001b[38;5;124m\"\u001b[39m\u001b[38;5;124mas it is likely to crash IPython. If you know what you are doing, \u001b[39m\u001b[38;5;124m\"\u001b[39m\n\u001b[0;32m    321\u001b[0m         \u001b[38;5;124m\"\u001b[39m\u001b[38;5;124myou can use builtins\u001b[39m\u001b[38;5;124m'\u001b[39m\u001b[38;5;124m open.\u001b[39m\u001b[38;5;124m\"\u001b[39m\n\u001b[0;32m    322\u001b[0m     )\n\u001b[1;32m--> 324\u001b[0m \u001b[38;5;28;01mreturn\u001b[39;00m \u001b[43mio_open\u001b[49m\u001b[43m(\u001b[49m\u001b[43mfile\u001b[49m\u001b[43m,\u001b[49m\u001b[43m \u001b[49m\u001b[38;5;241;43m*\u001b[39;49m\u001b[43margs\u001b[49m\u001b[43m,\u001b[49m\u001b[43m \u001b[49m\u001b[38;5;241;43m*\u001b[39;49m\u001b[38;5;241;43m*\u001b[39;49m\u001b[43mkwargs\u001b[49m\u001b[43m)\u001b[49m\n",
      "\u001b[1;31mFileNotFoundError\u001b[0m: [Errno 2] No such file or directory: './/assets//texto_diferente_dentro_de_uma_pasta.txt'"
     ]
    }
   ],
   "source": [
    "try:\n",
    "    with open('.//assets//texto_diferente_dentro_de_uma_pasta.txt', mode='r+') as my_file:\n",
    "        print(my_file.read())\n",
    "except FileNotFoundError as err:\n",
    "    print('file not found')\n",
    "    raise err\n",
    "except IOError as erro:\n",
    "    print('IO error')\n",
    "    raise err"
   ]
  },
  {
   "cell_type": "code",
   "execution_count": 4,
   "metadata": {},
   "outputs": [
    {
     "name": "stdout",
     "output_type": "stream",
     "text": [
      "Not all that is gold does glitter\n",
      "Not all who wander are lost\n",
      "\n",
      "ゴールドのすべてがキラキラするわけではありません\n",
      "さまようすべての人が迷っているわけではありません\n"
     ]
    }
   ],
   "source": [
    "#vamos traduzir o texto para japonês\n",
    "from translate import Translator\n",
    "\n",
    "translator = Translator(to_lang='ja')\n",
    "try:\n",
    "    with open('.//text.txt', mode='r') as my_file:\n",
    "        text = my_file.read()\n",
    "        print(text)\n",
    "        translation = translator.translate(text)\n",
    "        print(translation)\n",
    "except FileNotFoundError as e:\n",
    "    print('Arquivo não encontrado, bro')\n",
    "\n"
   ]
  }
 ],
 "metadata": {
  "kernelspec": {
   "display_name": "Python 3",
   "language": "python",
   "name": "python3"
  },
  "language_info": {
   "codemirror_mode": {
    "name": "ipython",
    "version": 3
   },
   "file_extension": ".py",
   "mimetype": "text/x-python",
   "name": "python",
   "nbconvert_exporter": "python",
   "pygments_lexer": "ipython3",
   "version": "3.11.9"
  }
 },
 "nbformat": 4,
 "nbformat_minor": 2
}
