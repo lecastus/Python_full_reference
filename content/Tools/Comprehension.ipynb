{
 "cells": [
  {
   "cell_type": "markdown",
   "metadata": {},
   "source": [
    "Comprehensions\n",
    "\n",
    "- Criação de um objeto em uma mesma sentença, com iteraveis e condicionais\n",
    "- Se aplica a listas, sets e dictionaries\n",
    "- Torna o codigo mais curto e limpo, mas também mais complexo e menos legivel \n"
   ]
  },
  {
   "cell_type": "code",
   "execution_count": 8,
   "metadata": {},
   "outputs": [
    {
     "name": "stdout",
     "output_type": "stream",
     "text": [
      "['h', 'e', 'l', 'l', 'o']\n",
      "['h', 'e', 'l', 'l', 'o']\n",
      "[0, 1, 2, 3, 4, 5, 6, 7, 8, 9, 10, 11, 12, 13, 14, 15, 16, 17, 18, 19, 20, 21, 22, 23, 24, 25, 26, 27, 28, 29, 30, 31, 32, 33, 34, 35, 36, 37, 38, 39, 40, 41, 42, 43, 44, 45, 46, 47, 48, 49, 50, 51, 52, 53, 54, 55, 56, 57, 58, 59, 60, 61, 62, 63, 64, 65, 66, 67, 68, 69, 70, 71, 72, 73, 74, 75, 76, 77, 78, 79, 80, 81, 82, 83, 84, 85, 86, 87, 88, 89, 90, 91, 92, 93, 94, 95, 96, 97, 98, 99]\n",
      "[0, 2, 4, 6, 8, 10, 12, 14, 16, 18, 20, 22, 24, 26, 28, 30, 32, 34, 36, 38, 40, 42, 44, 46, 48, 50, 52, 54, 56, 58, 60, 62, 64, 66, 68, 70, 72, 74, 76, 78, 80, 82, 84, 86, 88, 90, 92, 94, 96, 98, 100, 102, 104, 106, 108, 110, 112, 114, 116, 118, 120, 122, 124, 126, 128, 130, 132, 134, 136, 138, 140, 142, 144, 146, 148, 150, 152, 154, 156, 158, 160, 162, 164, 166, 168, 170, 172, 174, 176, 178, 180, 182, 184, 186, 188, 190, 192, 194, 196, 198]\n",
      "[0, 4, 16, 36, 64, 100, 144, 196, 256, 324, 400, 484, 576, 676, 784, 900, 1024, 1156, 1296, 1444, 1600, 1764, 1936, 2116, 2304, 2500, 2704, 2916, 3136, 3364, 3600, 3844, 4096, 4356, 4624, 4900, 5184, 5476, 5776, 6084, 6400, 6724, 7056, 7396, 7744, 8100, 8464, 8836, 9216, 9604]\n"
     ]
    }
   ],
   "source": [
    "#LISTS\n",
    "my_list = []\n",
    "\n",
    "for char in 'hello':\n",
    "    my_list.append(char)\n",
    "\n",
    "print(my_list)\n",
    "\n",
    "\n",
    "# my_list = [param for param in iterable]\n",
    "my_list = [char for char in 'hello']\n",
    "print(my_list)\n",
    "\n",
    "my_list2 = [num for num in range(0,100)]\n",
    "print(my_list2)\n",
    "\n",
    "my_list3 = [num *2 for num in range(0,100)]\n",
    "print(my_list3)\n",
    "\n",
    "# my_list = [param for param in iterable if condition]\n",
    "my_list4 = [num**2 for num in range(0,100) if num%2 == 0]\n",
    "print(my_list4)\n",
    "\n",
    "#Uma frma equivalente de fazer o mesmo:\n",
    "my_list4 = []\n",
    "for item in range(1,100):\n",
    "    if item %2 ==0:\n",
    "        my_list4.append(item**2)"
   ]
  },
  {
   "cell_type": "code",
   "execution_count": 11,
   "metadata": {},
   "outputs": [
    {
     "name": "stdout",
     "output_type": "stream",
     "text": [
      "{}\n",
      "{'e', 'o', 'l', 'h'}\n",
      "{0, 1, 2, 3, 4, 5, 6, 7, 8, 9, 10, 11, 12, 13, 14, 15, 16, 17, 18, 19, 20, 21, 22, 23, 24, 25, 26, 27, 28, 29, 30, 31, 32, 33, 34, 35, 36, 37, 38, 39, 40, 41, 42, 43, 44, 45, 46, 47, 48, 49, 50, 51, 52, 53, 54, 55, 56, 57, 58, 59, 60, 61, 62, 63, 64, 65, 66, 67, 68, 69, 70, 71, 72, 73, 74, 75, 76, 77, 78, 79, 80, 81, 82, 83, 84, 85, 86, 87, 88, 89, 90, 91, 92, 93, 94, 95, 96, 97, 98, 99}\n",
      "{0, 2, 4, 6, 8, 10, 12, 14, 16, 18, 20, 22, 24, 26, 28, 30, 32, 34, 36, 38, 40, 42, 44, 46, 48, 50, 52, 54, 56, 58, 60, 62, 64, 66, 68, 70, 72, 74, 76, 78, 80, 82, 84, 86, 88, 90, 92, 94, 96, 98, 100, 102, 104, 106, 108, 110, 112, 114, 116, 118, 120, 122, 124, 126, 128, 130, 132, 134, 136, 138, 140, 142, 144, 146, 148, 150, 152, 154, 156, 158, 160, 162, 164, 166, 168, 170, 172, 174, 176, 178, 180, 182, 184, 186, 188, 190, 192, 194, 196, 198}\n",
      "{0, 256, 1024, 2304, 4, 900, 1156, 3844, 4096, 4356, 8836, 9604, 16, 144, 400, 784, 1296, 1936, 2704, 3600, 4624, 5776, 9216, 36, 676, 1444, 3364, 4900, 8100, 7056, 7744, 64, 576, 1600, 3136, 196, 324, 2116, 2500, 5184, 6084, 6400, 6724, 8464, 100, 484, 1764, 2916, 5476, 7396}\n"
     ]
    }
   ],
   "source": [
    "#SETS\n",
    "my_set = {}\n",
    "print(my_set)\n",
    "\n",
    "\n",
    "# my_set = {param for param in iterable}\n",
    "my_set = {char for char in 'hello'}\n",
    "print(my_set)\n",
    "\n",
    "my_set2 = {num for num in range(0,100)}\n",
    "print(my_set2)\n",
    "\n",
    "my_set3 = {num *2 for num in range(0,100)}\n",
    "print(my_set3)\n",
    "\n",
    "# my_set = {param for param in iterable if condition}\n",
    "my_set4 = {num**2 for num in range(0,100) if num%2 == 0}\n",
    "print(my_set4)\n"
   ]
  },
  {
   "cell_type": "code",
   "execution_count": 19,
   "metadata": {},
   "outputs": [
    {
     "name": "stdout",
     "output_type": "stream",
     "text": [
      "{'b_even': 4}\n",
      "{'key_1': 2, 'key_2': 4, 'key_3': 6}\n"
     ]
    }
   ],
   "source": [
    "#DICTIONARY\n",
    "\n",
    "simples_dict = {\n",
    "    'a':1,\n",
    "    'b':2\n",
    "}\n",
    "\n",
    "my_dict = {key+'_even':value**2 for key,value in simples_dict.items() if value % 2 == 0}\n",
    "print(my_dict)\n",
    "\n",
    "my_dict2 = {'key_'+str(num):num*2 for num in [1,2,3]}\n",
    "print(my_dict2)\n"
   ]
  },
  {
   "cell_type": "code",
   "execution_count": 22,
   "metadata": {},
   "outputs": [
    {
     "name": "stdout",
     "output_type": "stream",
     "text": [
      "['b', 'b', 'n', 'n']\n",
      "['b', 'n']\n"
     ]
    }
   ],
   "source": [
    "#Execicio\n",
    "\n",
    "some_list = ['a','b','c','b','d','m','n','n']\n",
    "\n",
    "duplicates = []\n",
    "\n",
    "for value in some_list:\n",
    "    if some_list.count(value)>1:\n",
    "        duplicates.append(value)\n",
    "    \n",
    "print(duplicates)\n",
    "\n",
    "#resposta\n",
    "duplicates = list(set([item for item in some_list if some_list.count(item)>1]))\n",
    "print(duplicates)"
   ]
  }
 ],
 "metadata": {
  "kernelspec": {
   "display_name": "Python 3",
   "language": "python",
   "name": "python3"
  },
  "language_info": {
   "codemirror_mode": {
    "name": "ipython",
    "version": 3
   },
   "file_extension": ".py",
   "mimetype": "text/x-python",
   "name": "python",
   "nbconvert_exporter": "python",
   "pygments_lexer": "ipython3",
   "version": "3.11.9"
  }
 },
 "nbformat": 4,
 "nbformat_minor": 2
}
