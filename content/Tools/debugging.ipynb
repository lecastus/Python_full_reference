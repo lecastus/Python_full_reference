{
 "cells": [
  {
   "cell_type": "markdown",
   "metadata": {},
   "source": [
    "Debugging\n",
    "\n",
    "- linting\n",
    "- ide/editor\n",
    "- Ler erros\n",
    "- pdb"
   ]
  },
  {
   "cell_type": "code",
   "execution_count": null,
   "metadata": {},
   "outputs": [
    {
     "name": "stdout",
     "output_type": "stream",
     "text": [
      "> \u001b[1;32mc:\\users\\leh32\\appdata\\local\\temp\\ipykernel_6184\\1405482602.py\u001b[0m(4)\u001b[0;36madd\u001b[1;34m()\u001b[0m\n",
      "\n",
      "4\n",
      "'hasha'\n",
      "'hasha'\n",
      "'hasha'\n",
      "'hasha'\n",
      "TypeError: unsupported operand type(s) for +: 'int' and 'str'\n",
      "> \u001b[1;32mc:\\users\\leh32\\appdata\\local\\temp\\ipykernel_6184\\1405482602.py\u001b[0m(4)\u001b[0;36madd\u001b[1;34m()\u001b[0m\n",
      "\n",
      "--Return--\n",
      "None\n",
      "> \u001b[1;32mc:\\users\\leh32\\appdata\\local\\temp\\ipykernel_6184\\1405482602.py\u001b[0m(4)\u001b[0;36madd\u001b[1;34m()\u001b[0m\n",
      "\n",
      "*** NameError: name 'Escape' is not defined\n",
      "*** NameError: name 'Escape' is not defined\n",
      "*** NameError: name 'Escape' is not defined\n",
      "*** NameError: name 'Escape' is not defined\n",
      "*** NameError: name 'Escape' is not defined\n",
      "*** NameError: name 'Escape' is not defined\n",
      "*** NameError: name 'Escape' is not defined\n",
      "*** NameError: name 'Escape' is not defined\n",
      "*** NameError: name 'Escape' is not defined\n",
      "*** NameError: name 'Escape' is not defined\n",
      "*** NameError: name 'Escape' is not defined\n",
      "*** NameError: name 'Escape' is not defined\n",
      "*** NameError: name 'Escape' is not defined\n",
      "*** NameError: name 'Escape' is not defined\n",
      "*** NameError: name 'Escape' is not defined\n",
      "*** NameError: name 'Escape' is not defined\n",
      "*** NameError: name 'Escape' is not defined\n",
      "*** NameError: name 'Escape' is not defined\n",
      "*** NameError: name 'Escape' is not defined\n"
     ]
    }
   ],
   "source": [
    "import pdb\n",
    "def add(n1,n2):\n",
    "    pdb.set_trace()\n",
    "    t = 4*5\n",
    "    return n1+n2\n",
    "\n",
    "add(4,'hasha')\n",
    "\n",
    "#Comando uteis no pdb\n",
    "#nome de variavel -> valor da variavel\n",
    "#step -> pula linha\n",
    "#continue -> continua ate o erro\n",
    "#a -> mostra todas as variaveis e seus valores\n",
    "#w -> mostra o contexto da linha rodando e o conteudo da linha rodando\n"
   ]
  }
 ],
 "metadata": {
  "kernelspec": {
   "display_name": "Python 3",
   "language": "python",
   "name": "python3"
  },
  "language_info": {
   "codemirror_mode": {
    "name": "ipython",
    "version": 3
   },
   "file_extension": ".py",
   "mimetype": "text/x-python",
   "name": "python",
   "nbconvert_exporter": "python",
   "pygments_lexer": "ipython3",
   "version": "3.11.9"
  }
 },
 "nbformat": 4,
 "nbformat_minor": 2
}
