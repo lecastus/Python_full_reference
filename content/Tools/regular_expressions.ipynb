{
 "cells": [
  {
   "cell_type": "code",
   "execution_count": 12,
   "metadata": {},
   "outputs": [
    {
     "name": "stdout",
     "output_type": "stream",
     "text": [
      "True\n",
      "(15, 20)\n",
      "15\n",
      "20\n",
      "deste\n",
      "(15, 20)\n",
      "15\n",
      "20\n",
      "deste\n",
      "--------------------------------------------------------\n",
      "None\n",
      "--------------------------------------------------------\n",
      "['deste']\n",
      "None\n",
      "<re.Match object; span=(0, 14), match='Procure dentro'>\n"
     ]
    }
   ],
   "source": [
    "import re\n",
    "\n",
    "string = 'Procure dentro deste texto'\n",
    "\n",
    "print('texto' in string)\n",
    "\n",
    "#Regular expressions permite lidar com validações complexas em variaveis\n",
    "match_ob1 = re.search('deste',string)\n",
    "print(match_ob1.span()) #posição onde acontece\n",
    "print(match_ob1.start()) #posição onde começa\n",
    "print(match_ob1.end()) #posição onde acaba\n",
    "print(match_ob1.group()) #\n",
    "\n",
    "pattern = re.compile('deste')\n",
    "match_ob1 = pattern.search(string)\n",
    "print(match_ob1.span()) #posição onde acontece\n",
    "print(match_ob1.start()) #posição onde começa\n",
    "print(match_ob1.end()) #posição onde acaba\n",
    "print(match_ob1.group()) #\n",
    "\n",
    "print('--------------------------------------------------------')\n",
    "match_ob2 = re.search('desTe',string)\n",
    "print(match_ob2)\n",
    "print('--------------------------------------------------------')\n",
    "findall = pattern.findall(string)\n",
    "print(findall)\n",
    "#100% igual?\n",
    "fullmatch = pattern.fullmatch(string)\n",
    "print(fullmatch)\n",
    "#Pattern esta dentro do string, independente do que vem depois\n",
    "pattern = re.compile('Procure dentro')\n",
    "match = pattern.match(string)\n",
    "print(match)"
   ]
  },
  {
   "cell_type": "code",
   "execution_count": null,
   "metadata": {},
   "outputs": [
    {
     "name": "stdout",
     "output_type": "stream",
     "text": [
      "<re.Match object; span=(7, 10), match='w a'>\n",
      "[('w', 'a')]\n",
      "None\n",
      "None\n"
     ]
    }
   ],
   "source": [
    "#Padrões avançados\n",
    "\n",
    "# https://regex101.com/\n",
    "# ponto significa 'qualquer caracter'\n",
    "pattern = re.compile(r'([a-zA-Z]).([a])')\n",
    "# Aqui estamos checando se existe um substring com um caracter entre a e z, maiusculo ou minusculo, tem um caracter qualquer e entao tem a letra a minusculo\n",
    "string = 'hey, how are you'\n",
    "\n",
    "match_ob2 = pattern.search(string)\n",
    "print(match_ob2)\n",
    "findall = pattern.findall(string)\n",
    "print(findall)\n",
    "fullmatch = pattern.fullmatch(string)\n",
    "print(fullmatch)\n",
    "match = pattern.match(string)\n",
    "print(match)"
   ]
  },
  {
   "cell_type": "code",
   "execution_count": null,
   "metadata": {},
   "outputs": [
    {
     "name": "stdout",
     "output_type": "stream",
     "text": [
      "<re.Match object; span=(0, 15), match='email@email.com'>\n",
      "['email@email.com']\n",
      "<re.Match object; span=(0, 15), match='email@email.com'>\n",
      "<re.Match object; span=(0, 15), match='email@email.com'>\n",
      "----------------------------------------------\n",
      "None\n",
      "[]\n",
      "None\n",
      "None\n"
     ]
    }
   ],
   "source": [
    "#Aplicação\n",
    "#validando email\n",
    "pattern = re.compile(r'^[a-zA-Z0-9._%+-]+@[a-zA-Z0-9.-]+\\.[a-zA-Z]{2,}$')\n",
    "#[a-zA-Z0-9._%+-] uma lista de caracteres numericos, letras, pontos, underlines e %\n",
    "#+@ o substring pode ser tao longo quando quisermos '+' mas vai ser acompanhado de um arroba\n",
    "#[a-zA-Z0-9.-] seguido de uma sequencia de letras, numeros, pontos, underlines e %\n",
    "#+\\.[a-zA-Z]{2,}$  o substring pode ser tao longo quando quisermos '+' mas vai precisa '$' terminar com um ponto '\\.' seguido de letras e numeros. Tem pelo menos 2 caracteres {2,}\n",
    "string = 'email@email.com'\n",
    "\n",
    "match_ob2 = pattern.search(string)\n",
    "print(match_ob2)\n",
    "findall = pattern.findall(string)\n",
    "print(findall)\n",
    "fullmatch = pattern.fullmatch(string)\n",
    "print(fullmatch)\n",
    "match = pattern.match(string)\n",
    "print(match)\n",
    "\n",
    "print('----------------------------------------------')\n",
    "\n",
    "string = 'email'\n",
    "match_ob2 = pattern.search(string)\n",
    "print(match_ob2)\n",
    "findall = pattern.findall(string)\n",
    "print(findall)\n",
    "fullmatch = pattern.fullmatch(string)\n",
    "print(fullmatch)\n",
    "match = pattern.match(string)\n",
    "print(match)"
   ]
  },
  {
   "cell_type": "code",
   "execution_count": 21,
   "metadata": {},
   "outputs": [
    {
     "name": "stdout",
     "output_type": "stream",
     "text": [
      "<re.Match object; span=(0, 11), match='testecerto1'>\n",
      "['testecerto1']\n",
      "<re.Match object; span=(0, 11), match='testecerto1'>\n",
      "<re.Match object; span=(0, 11), match='testecerto1'>\n",
      "----------------------------------------------\n",
      "None\n",
      "[]\n",
      "None\n",
      "None\n"
     ]
    }
   ],
   "source": [
    "#password checker\n",
    "#8 caracteres\n",
    "# Pode conter letras, numero, pontos, underlines e %\n",
    "#Tem que terminar com um numero\n",
    "pattern = re.compile(r'^[a-zA-Z0-9._%+-]{7,}\\d$')\n",
    "#\\d é o mesmo que [0-9]\n",
    "senha_teste = 'testecerto1'\n",
    "\n",
    "match_ob2 = pattern.search(senha_teste)\n",
    "print(match_ob2)\n",
    "findall = pattern.findall(senha_teste)\n",
    "print(findall)\n",
    "fullmatch = pattern.fullmatch(senha_teste)\n",
    "print(fullmatch)\n",
    "match = pattern.match(senha_teste)\n",
    "print(match)\n",
    "\n",
    "print('----------------------------------------------')\n",
    "\n",
    "senha_teste = 'testeerrado'\n",
    "\n",
    "match_ob2 = pattern.search(senha_teste)\n",
    "print(match_ob2)\n",
    "findall = pattern.findall(senha_teste)\n",
    "print(findall)\n",
    "fullmatch = pattern.fullmatch(senha_teste)\n",
    "print(fullmatch)\n",
    "match = pattern.match(senha_teste)\n",
    "print(match)"
   ]
  }
 ],
 "metadata": {
  "kernelspec": {
   "display_name": "Python 3",
   "language": "python",
   "name": "python3"
  },
  "language_info": {
   "codemirror_mode": {
    "name": "ipython",
    "version": 3
   },
   "file_extension": ".py",
   "mimetype": "text/x-python",
   "name": "python",
   "nbconvert_exporter": "python",
   "pygments_lexer": "ipython3",
   "version": "3.11.9"
  }
 },
 "nbformat": 4,
 "nbformat_minor": 2
}
