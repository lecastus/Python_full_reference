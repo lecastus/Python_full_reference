{
 "cells": [
  {
   "cell_type": "code",
   "execution_count": 2,
   "metadata": {},
   "outputs": [
    {
     "name": "stdout",
     "output_type": "stream",
     "text": [
      "{1, 2, 3, 4, 5}\n",
      "{1, 2, 3, 4, 5}\n"
     ]
    }
   ],
   "source": [
    "#Coleção desordenada de objetos únicos\n",
    "#Muito util para fazer comparação de valores entre conjuntos de dados. Ver a sessão de metodos mais importantes\n",
    "base_set = {1,2,3,4,5}\n",
    "\n",
    "print(base_set)\n",
    "\n",
    "base_set = {1,2,3,4,5,5}\n",
    "\n",
    "print(base_set)"
   ]
  },
  {
   "cell_type": "code",
   "execution_count": 3,
   "metadata": {},
   "outputs": [
    {
     "name": "stdout",
     "output_type": "stream",
     "text": [
      "{1, 2, 3, 4, 5, 100}\n"
     ]
    }
   ],
   "source": [
    "base_set.add(100)\n",
    "base_set.add(2)\n",
    "\n",
    "print(base_set)"
   ]
  },
  {
   "cell_type": "code",
   "execution_count": 4,
   "metadata": {},
   "outputs": [
    {
     "name": "stdout",
     "output_type": "stream",
     "text": [
      "[1, 2, 3, 4, 5]\n"
     ]
    }
   ],
   "source": [
    "#Removendo valores duplicados, transformando uma lista em um set e depois em uma lista de volta\n",
    "\n",
    "my_list = [1,2,3,4,5,5]\n",
    "\n",
    "my_set = set(my_list)\n",
    "my_list = list(my_set)\n",
    "\n",
    "print(my_list)"
   ]
  },
  {
   "cell_type": "code",
   "execution_count": 5,
   "metadata": {},
   "outputs": [
    {
     "ename": "TypeError",
     "evalue": "'set' object is not subscriptable",
     "output_type": "error",
     "traceback": [
      "\u001b[1;31m---------------------------------------------------------------------------\u001b[0m",
      "\u001b[1;31mTypeError\u001b[0m                                 Traceback (most recent call last)",
      "\u001b[1;32m~\\AppData\\Local\\Temp\\ipykernel_16836\\1349405229.py\u001b[0m in \u001b[0;36m<module>\u001b[1;34m\u001b[0m\n\u001b[1;32m----> 1\u001b[1;33m \u001b[0mprint\u001b[0m\u001b[1;33m(\u001b[0m\u001b[0mmy_set\u001b[0m\u001b[1;33m[\u001b[0m\u001b[1;36m0\u001b[0m\u001b[1;33m]\u001b[0m\u001b[1;33m)\u001b[0m\u001b[1;33m\u001b[0m\u001b[1;33m\u001b[0m\u001b[0m\n\u001b[0m",
      "\u001b[1;31mTypeError\u001b[0m: 'set' object is not subscriptable"
     ]
    }
   ],
   "source": [
    "#Não é indexado\n",
    "print(my_set[0])"
   ]
  },
  {
   "cell_type": "code",
   "execution_count": 6,
   "metadata": {},
   "outputs": [
    {
     "name": "stdout",
     "output_type": "stream",
     "text": [
      "True\n",
      "5\n"
     ]
    }
   ],
   "source": [
    "print(1 in my_set)\n",
    "print(len(my_set))"
   ]
  },
  {
   "cell_type": "code",
   "execution_count": 7,
   "metadata": {},
   "outputs": [
    {
     "name": "stdout",
     "output_type": "stream",
     "text": [
      "set()\n",
      "{'a', 1, 2, 3, 4, 5}\n"
     ]
    }
   ],
   "source": [
    "new_set = my_set.copy()\n",
    "my_set.clear()\n",
    "new_set.add('a')\n",
    "\n",
    "print(my_set)\n",
    "print(new_set)"
   ]
  },
  {
   "cell_type": "markdown",
   "metadata": {},
   "source": [
    "Métodos mais importantes:"
   ]
  },
  {
   "cell_type": "code",
   "execution_count": 32,
   "metadata": {},
   "outputs": [
    {
     "name": "stdout",
     "output_type": "stream",
     "text": [
      "Diferença: {1, 2, 3}\n",
      "Discartar 5: {1, 2, 3, 4}\n",
      "Discartar as diferenças: {1, 2, 3}\n",
      "Intersecção entre os dois sets: {4, 5}\n",
      "Verifica se os conjuntos são totalmente diferentes entre si: True\n",
      "Uniao : {1, 2, 3, 4, 5, 6, 7, 8}\n",
      "Verifica se base_set é uma parte de other_set: True\n",
      "Verifica se base_set contem tudo o que other_set já contem: True\n"
     ]
    }
   ],
   "source": [
    "base_set = {1,2,3,4,5}\n",
    "other_set = {4,5,6,7,8}\n",
    "\n",
    "#Tem retorno\n",
    "print('Diferença:',base_set.difference(other_set))\n",
    "\n",
    "#Metodo direto no set\n",
    "base_set = {1,2,3,4,5}\n",
    "base_set.discard(5)\n",
    "print('Discartar 5:',base_set)\n",
    "\n",
    "#Metodo direto no set\n",
    "base_set = {1,2,3,4,5}\n",
    "base_set.difference_update(other_set)\n",
    "print('Discartar as diferenças:',base_set)\n",
    "\n",
    "#Tem retorno\n",
    "base_set = {1,2,3,4,5}\n",
    "interssecao = base_set.intersection(other_set)\n",
    "interssecao = base_set & other_set\n",
    "print('Intersecção entre os dois sets:',interssecao)\n",
    "\n",
    "\n",
    "#Tem retorno\n",
    "base_set = {1,2,3}\n",
    "sobreposicao = base_set.isdisjoint(other_set)\n",
    "print('Verifica se os conjuntos são totalmente diferentes entre si:',sobreposicao)\n",
    "\n",
    "#Tem retorno\n",
    "base_set = {1,2,3,4,5}\n",
    "sobreposicao = base_set.union(other_set)\n",
    "sobreposicao = base_set | other_set\n",
    "print('Uniao :',sobreposicao)\n",
    "\n",
    "#Tem retorno\n",
    "base_set = {4,5}\n",
    "other_set = {4,5,6,7,8}\n",
    "sobreposicao = base_set.issubset(other_set)\n",
    "print('Verifica se base_set é uma parte de other_set:',sobreposicao)\n",
    "\n",
    "\n",
    "#Tem retorno\n",
    "base_set = {1,2,3,4,5}\n",
    "other_set = {4,5}\n",
    "sobreposicao = base_set.issuperset(other_set)\n",
    "print('Verifica se base_set contem tudo o que other_set já contem:',sobreposicao)"
   ]
  }
 ],
 "metadata": {
  "kernelspec": {
   "display_name": "Python 3",
   "language": "python",
   "name": "python3"
  },
  "language_info": {
   "codemirror_mode": {
    "name": "ipython",
    "version": 3
   },
   "file_extension": ".py",
   "mimetype": "text/x-python",
   "name": "python",
   "nbconvert_exporter": "python",
   "pygments_lexer": "ipython3",
   "version": "3.7.9"
  }
 },
 "nbformat": 4,
 "nbformat_minor": 2
}
