{
 "cells": [
  {
   "cell_type": "code",
   "execution_count": 6,
   "metadata": {},
   "outputs": [
    {
     "name": "stdout",
     "output_type": "stream",
     "text": [
      "2\n",
      "1\n",
      "a\n"
     ]
    }
   ],
   "source": [
    "#Estrutura de dados desordenada com par de chave/valor (key value pair)\n",
    "    #uma key precisa ser imutavel. Listas e dicts não podem ser keys por serem mutaveis\n",
    "base_dict = {\n",
    "    'a':1,\n",
    "    'b':2,\n",
    "    'c':[1,2],\n",
    "    123:'a',\n",
    "    True:'b',\n",
    "    (1,2,3):'c'\n",
    "}\n",
    "\n",
    "print(base_dict['b'])\n",
    "print(base_dict['c'][0])\n",
    "print(base_dict[(123)])"
   ]
  },
  {
   "cell_type": "code",
   "execution_count": 3,
   "metadata": {},
   "outputs": [
    {
     "data": {
      "text/plain": [
       "1"
      ]
     },
     "execution_count": 3,
     "metadata": {},
     "output_type": "execute_result"
    }
   ],
   "source": [
    "my_list = [\n",
    "    {\n",
    "        'a':1,\n",
    "        'b':2,\n",
    "        'c':[1,2]\n",
    "    },\n",
    "    {\n",
    "        'a':1,\n",
    "        'b':2,\n",
    "        'c':[1,2]\n",
    "    }\n",
    "]\n",
    "\n",
    "my_list[0]['a']"
   ]
  },
  {
   "cell_type": "markdown",
   "metadata": {},
   "source": [
    "Quando usar um dicionarios?\n",
    "- Controle desordenado (apesar de existir ordem agora)\n",
    "- Gestão mais facil de muitos tipos de informação\n",
    "\n",
    "Quando usar uma lista?\n",
    "- Controle ordenado\n",
    "- Gestão mais agil de muita informação"
   ]
  },
  {
   "cell_type": "code",
   "execution_count": 11,
   "metadata": {},
   "outputs": [
    {
     "name": "stdout",
     "output_type": "stream",
     "text": [
      "29\n",
      "29\n",
      "None\n",
      "dark_blond\n"
     ]
    }
   ],
   "source": [
    "user = {\n",
    "    'age':29,\n",
    "    'height':1.8,\n",
    "    'weight':75\n",
    "}\n",
    "\n",
    "print(user['age'])\n",
    "\n",
    "#funciona mesmo que não haja a chave\n",
    "print(user.get('age'))\n",
    "print(user.get('hair_color'))\n",
    "\n",
    "#defaut value para o caso da chave não existir\n",
    "print(user.get('hair_color','dark_blond'))"
   ]
  },
  {
   "cell_type": "code",
   "execution_count": 27,
   "metadata": {},
   "outputs": [
    {
     "name": "stdout",
     "output_type": "stream",
     "text": [
      "{'age': 29, 'height': 1.8, 'weight': 75}\n"
     ]
    }
   ],
   "source": [
    "#outro jeito de fazer um dict\n",
    "new_user = dict(age=29,height=1.8,weight = 75)\n",
    "\n",
    "print(new_user)"
   ]
  },
  {
   "cell_type": "code",
   "execution_count": 20,
   "metadata": {},
   "outputs": [
    {
     "name": "stdout",
     "output_type": "stream",
     "text": [
      "True\n",
      "False\n",
      "dict_keys(['age', 'height', 'weight'])\n",
      "True\n",
      "dict_values([29, 1.8, 75])\n",
      "True\n",
      "dict_items([('age', 29), ('height', 1.8), ('weight', 75)])\n",
      "False\n"
     ]
    }
   ],
   "source": [
    "#outra forma de buscar um valor em um dict\n",
    "\n",
    "print('age' in new_user)\n",
    "print('hair_color' in new_user)\n",
    "\n",
    "print(new_user.keys())\n",
    "print('age' in new_user.keys())\n",
    "\n",
    "print(new_user.values())\n",
    "print(29 in new_user.values())\n",
    "\n",
    "print(new_user.items())\n",
    "print(29 in new_user.items())\n",
    "#resultado do metodo .items retorna tuplas\n"
   ]
  },
  {
   "cell_type": "code",
   "execution_count": 22,
   "metadata": {},
   "outputs": [
    {
     "name": "stdout",
     "output_type": "stream",
     "text": [
      "None\n",
      "{}\n"
     ]
    }
   ],
   "source": [
    "print(new_user.clear())\n",
    "print(new_user)"
   ]
  },
  {
   "cell_type": "code",
   "execution_count": 24,
   "metadata": {},
   "outputs": [
    {
     "name": "stdout",
     "output_type": "stream",
     "text": [
      "{'age': 29, 'height': 1.8, 'weight': 75}\n"
     ]
    }
   ],
   "source": [
    "new_new_user = new_user.copy()\n",
    "print(new_new_user)"
   ]
  },
  {
   "cell_type": "code",
   "execution_count": 28,
   "metadata": {},
   "outputs": [
    {
     "name": "stdout",
     "output_type": "stream",
     "text": [
      "{'height': 1.8, 'weight': 75}\n",
      "29\n",
      "{'height': 1.8}\n",
      "('weight', 75)\n"
     ]
    }
   ],
   "source": [
    "removido = new_user.pop('age')\n",
    "print(new_user)\n",
    "print(removido)\n",
    "\n",
    "removido = new_user.popitem()\n",
    "print(new_user)\n",
    "print(removido)\n"
   ]
  },
  {
   "cell_type": "code",
   "execution_count": 30,
   "metadata": {},
   "outputs": [
    {
     "name": "stdout",
     "output_type": "stream",
     "text": [
      "{'age': 30, 'height': 1.8, 'weight': 75}\n",
      "{'age': 30, 'height': 1.8, 'weight': 75, 'hair_color': 'dark_blond'}\n"
     ]
    }
   ],
   "source": [
    "new_user = dict(age=29,height=1.8,weight = 75)\n",
    "\n",
    "new_user.update({'age':30})\n",
    "print(new_user)\n",
    "\n",
    "new_user.update({'hair_color':'dark_blond'})\n",
    "print(new_user)"
   ]
  },
  {
   "cell_type": "code",
   "execution_count": 31,
   "metadata": {},
   "outputs": [
    {
     "data": {
      "text/plain": [
       "0.1511627906976744"
      ]
     },
     "execution_count": 31,
     "metadata": {},
     "output_type": "execute_result"
    }
   ],
   "source": [
    "52/344"
   ]
  }
 ],
 "metadata": {
  "kernelspec": {
   "display_name": "Python 3",
   "language": "python",
   "name": "python3"
  },
  "language_info": {
   "codemirror_mode": {
    "name": "ipython",
    "version": 3
   },
   "file_extension": ".py",
   "mimetype": "text/x-python",
   "name": "python",
   "nbconvert_exporter": "python",
   "pygments_lexer": "ipython3",
   "version": "3.7.9"
  }
 },
 "nbformat": 4,
 "nbformat_minor": 2
}
