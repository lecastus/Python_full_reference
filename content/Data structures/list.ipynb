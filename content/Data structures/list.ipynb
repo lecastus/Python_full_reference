{
 "cells": [
  {
   "cell_type": "code",
   "execution_count": 23,
   "metadata": {},
   "outputs": [],
   "source": [
    "list_base = [1,2,3]"
   ]
  },
  {
   "cell_type": "code",
   "execution_count": 12,
   "metadata": {},
   "outputs": [
    {
     "data": {
      "text/plain": [
       "[0, 1, 2, 3, 4]"
      ]
     },
     "execution_count": 12,
     "metadata": {},
     "output_type": "execute_result"
    }
   ],
   "source": [
    "#editando a mesma lista\n",
    "list_base.append(4)\n",
    "list_base"
   ]
  },
  {
   "cell_type": "code",
   "execution_count": 24,
   "metadata": {},
   "outputs": [
    {
     "name": "stdout",
     "output_type": "stream",
     "text": [
      "[0, 1, 2, 3]\n"
     ]
    }
   ],
   "source": [
    "#editando a mesma lista\n",
    "list_base.insert(0,0)\n",
    "print(list_base)"
   ]
  },
  {
   "cell_type": "code",
   "execution_count": 25,
   "metadata": {},
   "outputs": [
    {
     "name": "stdout",
     "output_type": "stream",
     "text": [
      "[0, 1, 2, 3, 101, 102, 103]\n"
     ]
    }
   ],
   "source": [
    "#editando a mesma lista\n",
    "list_base.extend([101,102,103])\n",
    "print(list_base)"
   ]
  },
  {
   "cell_type": "code",
   "execution_count": 26,
   "metadata": {},
   "outputs": [
    {
     "name": "stdout",
     "output_type": "stream",
     "text": [
      "[1, 2, 3, 101, 102, 103]\n"
     ]
    }
   ],
   "source": [
    "#editando a mesma lista\n",
    "list_base.pop(0)\n",
    "print(list_base)\n"
   ]
  },
  {
   "cell_type": "code",
   "execution_count": 28,
   "metadata": {},
   "outputs": [
    {
     "name": "stdout",
     "output_type": "stream",
     "text": [
      "list_base [2, 3, 102, 103]\n",
      "new_list 1\n"
     ]
    }
   ],
   "source": [
    "#retorno da função pop\n",
    "valor_excluido = list_base.pop(0)\n",
    "print('list_base',list_base)\n",
    "print('new_list',valor_excluido)"
   ]
  },
  {
   "cell_type": "code",
   "execution_count": 27,
   "metadata": {},
   "outputs": [
    {
     "name": "stdout",
     "output_type": "stream",
     "text": [
      "[1, 2, 3, 102, 103]\n"
     ]
    }
   ],
   "source": [
    "#editando a mesma lista\n",
    "list_base.remove(101)\n",
    "print(list_base)"
   ]
  },
  {
   "cell_type": "code",
   "execution_count": 29,
   "metadata": {},
   "outputs": [
    {
     "name": "stdout",
     "output_type": "stream",
     "text": [
      "[]\n"
     ]
    }
   ],
   "source": [
    "#editando a mesma lista\n",
    "list_base.clear()\n",
    "print(list_base)"
   ]
  },
  {
   "cell_type": "code",
   "execution_count": 50,
   "metadata": {},
   "outputs": [
    {
     "name": "stdout",
     "output_type": "stream",
     "text": [
      "1\n",
      "2\n",
      "2\n"
     ]
    }
   ],
   "source": [
    "#retorna a posição de um valor procurando, no caso '2' e 'c'\n",
    "list_base = [1,2,3]\n",
    "print(list_base.index(2))\n",
    "\n",
    "list_base = ['a','b','c']\n",
    "print(list_base.index('c'))\n",
    "\n",
    "#começando no caracter 0 e terminando no 3\n",
    "list_base = ['a','b','c']\n",
    "print(list_base.index('c',0,3))"
   ]
  },
  {
   "cell_type": "code",
   "execution_count": 52,
   "metadata": {},
   "outputs": [
    {
     "name": "stdout",
     "output_type": "stream",
     "text": [
      "True\n",
      "1\n",
      "['a', 'b', 'c', 'd']\n",
      "['a', 'b', 'c', 'd']\n",
      "['d', 'c', 'b', 'a']\n",
      "['c', 'b', 'a']\n"
     ]
    }
   ],
   "source": [
    "#keywords\n",
    "print('c' in list_base)\n",
    "\n",
    "print(list_base.count('a'))\n",
    "\n",
    "#sort é um metodo, sorted é uma função e produz uma lista nova\n",
    "list_base.insert(0,'d')\n",
    "list_base.sort()\n",
    "print(list_base)\n",
    "print(sorted(list_base))\n",
    "#reverse muda a ordem atual ao contrario. Ordem anti alfebetica pode ser feita aplicando sorted e depois reverse\n",
    "list_base.reverse()\n",
    "print(list_base)\n",
    "\n",
    "#igual o reverse mas retorna uma lista e não modifica ela\n",
    "list_base = ['a','b','c']\n",
    "print(list_base[::-1])"
   ]
  },
  {
   "cell_type": "code",
   "execution_count": 54,
   "metadata": {},
   "outputs": [
    {
     "name": "stdout",
     "output_type": "stream",
     "text": [
      "3\n",
      "['a', 'b', 'c']\n",
      "[0, 1, 2, 3, 4, 5, 6, 7, 8, 9, 10, 11, 12, 13, 14, 15, 16, 17, 18, 19, 20, 21, 22, 23, 24, 25, 26, 27, 28, 29, 30, 31, 32, 33, 34, 35, 36, 37, 38, 39, 40, 41, 42, 43, 44, 45, 46, 47, 48, 49, 50, 51, 52, 53, 54, 55, 56, 57, 58, 59, 60, 61, 62, 63, 64, 65, 66, 67, 68, 69, 70, 71, 72, 73, 74, 75, 76, 77, 78, 79, 80, 81, 82, 83, 84, 85, 86, 87, 88, 89, 90, 91, 92, 93, 94, 95, 96, 97, 98, 99]\n"
     ]
    }
   ],
   "source": [
    "print(len(list_base))\n",
    "print(list_base[0:len(list_base)])\n",
    "\n",
    "print(list(range(100)))"
   ]
  },
  {
   "cell_type": "code",
   "execution_count": 60,
   "metadata": {},
   "outputs": [
    {
     "name": "stdout",
     "output_type": "stream",
     "text": [
      "hello!,mynameisLeandro\n",
      "hello! , my name is Leandro\n",
      "hello!!,!my!name!is!Leandro\n"
     ]
    }
   ],
   "source": [
    "sentence = ''\n",
    "new_sentence = sentence.join(['hello!',',','my','name','is','Leandro'])\n",
    "print(new_sentence)\n",
    "\n",
    "sentence = ' '\n",
    "new_sentence = sentence.join(['hello!',',','my','name','is','Leandro'])\n",
    "print(new_sentence)\n",
    "\n",
    "sentence = '!'\n",
    "new_sentence = sentence.join(['hello!',',','my','name','is','Leandro'])\n",
    "print(new_sentence)"
   ]
  },
  {
   "cell_type": "code",
   "execution_count": 64,
   "metadata": {},
   "outputs": [
    {
     "name": "stdout",
     "output_type": "stream",
     "text": [
      "a\n",
      "b\n",
      "c\n",
      "['d', 'e']\n",
      "f\n",
      "['a', 'b', 'c', 'd', 'e', 'f']\n"
     ]
    }
   ],
   "source": [
    "#list unpacking - adicionar variaveis para cada item na lista\n",
    "list_base = ['a','b','c']\n",
    "var_a,var_b,var_c = list_base\n",
    "var_a,var_b,var_c = 'a','b','c'\n",
    "\n",
    "list_base = ['a','b','c','d','e','f']\n",
    "var_a,var_b,var_c, *others, var_f = list_base\n",
    "print(var_a)\n",
    "print(var_b)\n",
    "print(var_c)\n",
    "print(others)\n",
    "print(var_f)\n",
    "\n",
    "#Não faz a volta\n",
    "var_a = 'A'\n",
    "print(list_base)"
   ]
  },
  {
   "cell_type": "code",
   "execution_count": 65,
   "metadata": {},
   "outputs": [
    {
     "name": "stdout",
     "output_type": "stream",
     "text": [
      "None\n"
     ]
    }
   ],
   "source": [
    "#None\n",
    "\n",
    "weapons = None\n",
    "print(weapons)\n"
   ]
  }
 ],
 "metadata": {
  "kernelspec": {
   "display_name": "Python 3",
   "language": "python",
   "name": "python3"
  },
  "language_info": {
   "codemirror_mode": {
    "name": "ipython",
    "version": 3
   },
   "file_extension": ".py",
   "mimetype": "text/x-python",
   "name": "python",
   "nbconvert_exporter": "python",
   "pygments_lexer": "ipython3",
   "version": "3.7.9"
  }
 },
 "nbformat": 4,
 "nbformat_minor": 2
}
